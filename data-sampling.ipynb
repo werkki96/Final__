{
 "cells": [
  {
   "cell_type": "markdown",
   "metadata": {},
   "source": [
    "This file contains code for sampling cleaned CIC-IDS-2017 dataset to be used for experiments."
   ]
  },
  {
   "cell_type": "code",
   "metadata": {
    "ExecuteTime": {
     "end_time": "2024-09-24T04:51:22.397666Z",
     "start_time": "2024-09-24T04:51:22.389699Z"
    }
   },
   "source": [
    "import sys\n",
    "import os\n",
    "\n",
    "import pandas as pd\n",
    "import numpy as np\n",
    "from sklearn.preprocessing import StandardScaler, Normalizer, LabelEncoder\n",
    "from sklearn.model_selection import train_test_split\n",
    "from sklearn.decomposition import PCA\n",
    "from sklearn.utils import shuffle, resample\n",
    "from sklearn.utils.random import sample_without_replacement\n",
    "\n",
    "script_dir = os.path.dirname(os.path.abspath(\"experiments\"))\n",
    "sys.path.append(os.path.dirname(script_dir))\n",
    "\n",
    "from experiments.predictions import labels\n",
    "\n",
    "import warnings\n",
    "warnings.filterwarnings(\"ignore\")"
   ],
   "outputs": [],
   "execution_count": 12
  },
  {
   "metadata": {
    "ExecuteTime": {
     "end_time": "2024-09-24T04:51:35.204144Z",
     "start_time": "2024-09-24T04:51:35.191158Z"
    }
   },
   "cell_type": "code",
   "source": "",
   "outputs": [
    {
     "data": {
      "text/plain": [
       "'.'"
      ]
     },
     "execution_count": 14,
     "metadata": {},
     "output_type": "execute_result"
    }
   ],
   "execution_count": 14
  },
  {
   "cell_type": "code",
   "metadata": {
    "ExecuteTime": {
     "end_time": "2024-09-12T07:51:08.342761Z",
     "start_time": "2024-09-12T07:50:58.012397Z"
    }
   },
   "source": [
    "#clean = pd.read_csv(\"./clean_2018.csv\")\n",
    "clean = pd.read_csv(\"./clean1.csv\")"
   ],
   "outputs": [],
   "execution_count": 2
  },
  {
   "cell_type": "markdown",
   "metadata": {},
   "source": [
    "`preproc_data` function implements data preprocessing steps from `preprocessing.ipynb` file - but as a single function. "
   ]
  },
  {
   "cell_type": "code",
   "metadata": {
    "ExecuteTime": {
     "end_time": "2024-09-12T07:51:10.576563Z",
     "start_time": "2024-09-12T07:51:10.567645Z"
    }
   },
   "source": [
    "def preproc_data(dataset, train_sample: float, pca_dim=31):\n",
    "    \n",
    "    # Label encode\n",
    "    le = LabelEncoder()\n",
    "    dataset['label'] = le.fit_transform(dataset['label'])\n",
    "    \n",
    "    # Train test split\n",
    "    x_train, x_test, y_train, y_test = train_test_split(dataset.iloc[:,:-1], \n",
    "                                                        dataset['label'], \n",
    "                                                        test_size=1-train_sample, \n",
    "                                                        random_state=0)\n",
    "    # Standard scaling\n",
    "    ss = StandardScaler().fit(x_train)\n",
    "\n",
    "    x_train = ss.transform(x_train)\n",
    "    x_test = ss.transform(x_test)\n",
    "    \n",
    "    # PCA\n",
    "    pca = PCA(n_components=31).fit(x_train)\n",
    "\n",
    "    x_train = pca.transform(x_train)\n",
    "    x_test = pca.transform(x_test)\n",
    "    \n",
    "    # Normalization\n",
    "    norm = Normalizer().fit(x_train)\n",
    "\n",
    "    x_train = norm.transform(x_train)\n",
    "    x_test = norm.transform(x_test)\n",
    "    \n",
    "    # Reshaping \n",
    "    y_train = y_train.values.reshape(-1,1)\n",
    "    y_test = y_test.values.reshape(-1,1)\n",
    "    \n",
    "    return x_train, x_test, y_train, y_test"
   ],
   "outputs": [],
   "execution_count": 3
  },
  {
   "cell_type": "code",
   "metadata": {
    "scrolled": true,
    "ExecuteTime": {
     "end_time": "2024-09-12T07:51:12.270061Z",
     "start_time": "2024-09-12T07:51:12.034352Z"
    }
   },
   "source": [
    "low_member_thresh = 2000\n",
    "\n",
    "low_member_labels = list(clean['label'].value_counts()[clean['label'].value_counts() < low_member_thresh].index)\n",
    "#low_member_labels = list(clean['Label'].value_counts()[clean['Label'].value_counts() < low_member_thresh].index)\n",
    "low_member_labels"
   ],
   "outputs": [
    {
     "data": {
      "text/plain": [
       "['Bot',\n",
       " 'Web_Attack_Brute_Force',\n",
       " 'Web_Attack_XSS',\n",
       " 'Infiltration',\n",
       " 'Web_Attack_Sql_Injection',\n",
       " 'Heartbleed']"
      ]
     },
     "execution_count": 4,
     "metadata": {},
     "output_type": "execute_result"
    }
   ],
   "execution_count": 4
  },
  {
   "cell_type": "markdown",
   "metadata": {},
   "source": [
    "### 10%"
   ]
  },
  {
   "cell_type": "markdown",
   "metadata": {},
   "source": [
    "This dataset sample contains only 10% of each class members except those which contain <2000 intances. They are taken in their entirety."
   ]
  },
  {
   "cell_type": "code",
   "metadata": {
    "scrolled": true,
    "ExecuteTime": {
     "end_time": "2024-09-12T07:51:15.591687Z",
     "start_time": "2024-09-12T07:51:14.855586Z"
    }
   },
   "source": [
    "low_member_data = clean[clean.label.str.contains(\"|\".join(low_member_labels))]\n",
    "low_member_data"
   ],
   "outputs": [
    {
     "data": {
      "text/plain": [
       "         destination_port  flow_duration  total_fwd_packets  \\\n",
       "535861               8080       60202640                  9   \n",
       "536465               8080          57891                  1   \n",
       "568134               8080         134812                  4   \n",
       "568159               1841             84                  1   \n",
       "568354               8080         127781                  4   \n",
       "...                   ...            ...                ...   \n",
       "2732770               444      119259012               2801   \n",
       "2732956               444      119257653               2802   \n",
       "2733041               444      119299621               2805   \n",
       "2733047               444      119296592               2797   \n",
       "2733059               444       24719667                590   \n",
       "\n",
       "         total_backward_packets  total_length_of_fwd_packets  \\\n",
       "535861                        9                          322   \n",
       "536465                        1                            0   \n",
       "568134                        3                          206   \n",
       "568159                        1                            6   \n",
       "568354                        3                          206   \n",
       "...                         ...                          ...   \n",
       "2732770                    2069                        12264   \n",
       "2732956                    2067                        20858   \n",
       "2733041                    2028                        13712   \n",
       "2733047                    2006                        13712   \n",
       "2733059                     436                         7442   \n",
       "\n",
       "         total_length_of_bwd_packets  fwd_packet_length_max  \\\n",
       "535861                           256                    322   \n",
       "536465                             0                      0   \n",
       "568134                           134                    194   \n",
       "568159                             6                      6   \n",
       "568354                           134                    194   \n",
       "...                              ...                    ...   \n",
       "2732770                      7879536                   4344   \n",
       "2732956                      7812389                   5792   \n",
       "2733041                      7878627                   5792   \n",
       "2733047                      7878088                   5792   \n",
       "2733059                      1636683                   5792   \n",
       "\n",
       "         fwd_packet_length_min  fwd_packet_length_mean  fwd_packet_length_std  \\\n",
       "535861                       0               35.777778             107.333333   \n",
       "536465                       0                0.000000               0.000000   \n",
       "568134                       0               51.500000              95.042096   \n",
       "568159                       6                6.000000               0.000000   \n",
       "568354                       0               51.500000              95.042096   \n",
       "...                        ...                     ...                    ...   \n",
       "2732770                      0                4.378436              83.107845   \n",
       "2732956                      0                7.443969             126.045811   \n",
       "2733041                      0                4.888414             110.120790   \n",
       "2733047                      0                4.902395             110.277907   \n",
       "2733059                      0               12.613559             238.708658   \n",
       "\n",
       "         ...  min_seg_size_forward  active_mean   active_std  active_max  \\\n",
       "535861   ...                    32      63678.2  22252.53596      103175   \n",
       "536465   ...                    32          0.0      0.00000           0   \n",
       "568134   ...                    20          0.0      0.00000           0   \n",
       "568159   ...                    20          0.0      0.00000           0   \n",
       "568354   ...                    20          0.0      0.00000           0   \n",
       "...      ...                   ...          ...          ...         ...   \n",
       "2732770  ...                    32          0.0      0.00000           0   \n",
       "2732956  ...                    32          0.0      0.00000           0   \n",
       "2733041  ...                    32          0.0      0.00000           0   \n",
       "2733047  ...                    32          0.0      0.00000           0   \n",
       "2733059  ...                    32          0.0      0.00000           0   \n",
       "\n",
       "         active_min   idle_mean     idle_std  idle_max  idle_min       label  \n",
       "535861        50911  10200000.0  34941.27201  10200000  10100000         Bot  \n",
       "536465            0         0.0      0.00000         0         0         Bot  \n",
       "568134            0         0.0      0.00000         0         0         Bot  \n",
       "568159            0         0.0      0.00000         0         0         Bot  \n",
       "568354            0         0.0      0.00000         0         0         Bot  \n",
       "...             ...         ...          ...       ...       ...         ...  \n",
       "2732770           0         0.0      0.00000         0         0  Heartbleed  \n",
       "2732956           0         0.0      0.00000         0         0  Heartbleed  \n",
       "2733041           0         0.0      0.00000         0         0  Heartbleed  \n",
       "2733047           0         0.0      0.00000         0         0  Heartbleed  \n",
       "2733059           0         0.0      0.00000         0         0  Heartbleed  \n",
       "\n",
       "[4183 rows x 79 columns]"
      ],
      "text/html": [
       "<div>\n",
       "<style scoped>\n",
       "    .dataframe tbody tr th:only-of-type {\n",
       "        vertical-align: middle;\n",
       "    }\n",
       "\n",
       "    .dataframe tbody tr th {\n",
       "        vertical-align: top;\n",
       "    }\n",
       "\n",
       "    .dataframe thead th {\n",
       "        text-align: right;\n",
       "    }\n",
       "</style>\n",
       "<table border=\"1\" class=\"dataframe\">\n",
       "  <thead>\n",
       "    <tr style=\"text-align: right;\">\n",
       "      <th></th>\n",
       "      <th>destination_port</th>\n",
       "      <th>flow_duration</th>\n",
       "      <th>total_fwd_packets</th>\n",
       "      <th>total_backward_packets</th>\n",
       "      <th>total_length_of_fwd_packets</th>\n",
       "      <th>total_length_of_bwd_packets</th>\n",
       "      <th>fwd_packet_length_max</th>\n",
       "      <th>fwd_packet_length_min</th>\n",
       "      <th>fwd_packet_length_mean</th>\n",
       "      <th>fwd_packet_length_std</th>\n",
       "      <th>...</th>\n",
       "      <th>min_seg_size_forward</th>\n",
       "      <th>active_mean</th>\n",
       "      <th>active_std</th>\n",
       "      <th>active_max</th>\n",
       "      <th>active_min</th>\n",
       "      <th>idle_mean</th>\n",
       "      <th>idle_std</th>\n",
       "      <th>idle_max</th>\n",
       "      <th>idle_min</th>\n",
       "      <th>label</th>\n",
       "    </tr>\n",
       "  </thead>\n",
       "  <tbody>\n",
       "    <tr>\n",
       "      <th>535861</th>\n",
       "      <td>8080</td>\n",
       "      <td>60202640</td>\n",
       "      <td>9</td>\n",
       "      <td>9</td>\n",
       "      <td>322</td>\n",
       "      <td>256</td>\n",
       "      <td>322</td>\n",
       "      <td>0</td>\n",
       "      <td>35.777778</td>\n",
       "      <td>107.333333</td>\n",
       "      <td>...</td>\n",
       "      <td>32</td>\n",
       "      <td>63678.2</td>\n",
       "      <td>22252.53596</td>\n",
       "      <td>103175</td>\n",
       "      <td>50911</td>\n",
       "      <td>10200000.0</td>\n",
       "      <td>34941.27201</td>\n",
       "      <td>10200000</td>\n",
       "      <td>10100000</td>\n",
       "      <td>Bot</td>\n",
       "    </tr>\n",
       "    <tr>\n",
       "      <th>536465</th>\n",
       "      <td>8080</td>\n",
       "      <td>57891</td>\n",
       "      <td>1</td>\n",
       "      <td>1</td>\n",
       "      <td>0</td>\n",
       "      <td>0</td>\n",
       "      <td>0</td>\n",
       "      <td>0</td>\n",
       "      <td>0.000000</td>\n",
       "      <td>0.000000</td>\n",
       "      <td>...</td>\n",
       "      <td>32</td>\n",
       "      <td>0.0</td>\n",
       "      <td>0.00000</td>\n",
       "      <td>0</td>\n",
       "      <td>0</td>\n",
       "      <td>0.0</td>\n",
       "      <td>0.00000</td>\n",
       "      <td>0</td>\n",
       "      <td>0</td>\n",
       "      <td>Bot</td>\n",
       "    </tr>\n",
       "    <tr>\n",
       "      <th>568134</th>\n",
       "      <td>8080</td>\n",
       "      <td>134812</td>\n",
       "      <td>4</td>\n",
       "      <td>3</td>\n",
       "      <td>206</td>\n",
       "      <td>134</td>\n",
       "      <td>194</td>\n",
       "      <td>0</td>\n",
       "      <td>51.500000</td>\n",
       "      <td>95.042096</td>\n",
       "      <td>...</td>\n",
       "      <td>20</td>\n",
       "      <td>0.0</td>\n",
       "      <td>0.00000</td>\n",
       "      <td>0</td>\n",
       "      <td>0</td>\n",
       "      <td>0.0</td>\n",
       "      <td>0.00000</td>\n",
       "      <td>0</td>\n",
       "      <td>0</td>\n",
       "      <td>Bot</td>\n",
       "    </tr>\n",
       "    <tr>\n",
       "      <th>568159</th>\n",
       "      <td>1841</td>\n",
       "      <td>84</td>\n",
       "      <td>1</td>\n",
       "      <td>1</td>\n",
       "      <td>6</td>\n",
       "      <td>6</td>\n",
       "      <td>6</td>\n",
       "      <td>6</td>\n",
       "      <td>6.000000</td>\n",
       "      <td>0.000000</td>\n",
       "      <td>...</td>\n",
       "      <td>20</td>\n",
       "      <td>0.0</td>\n",
       "      <td>0.00000</td>\n",
       "      <td>0</td>\n",
       "      <td>0</td>\n",
       "      <td>0.0</td>\n",
       "      <td>0.00000</td>\n",
       "      <td>0</td>\n",
       "      <td>0</td>\n",
       "      <td>Bot</td>\n",
       "    </tr>\n",
       "    <tr>\n",
       "      <th>568354</th>\n",
       "      <td>8080</td>\n",
       "      <td>127781</td>\n",
       "      <td>4</td>\n",
       "      <td>3</td>\n",
       "      <td>206</td>\n",
       "      <td>134</td>\n",
       "      <td>194</td>\n",
       "      <td>0</td>\n",
       "      <td>51.500000</td>\n",
       "      <td>95.042096</td>\n",
       "      <td>...</td>\n",
       "      <td>20</td>\n",
       "      <td>0.0</td>\n",
       "      <td>0.00000</td>\n",
       "      <td>0</td>\n",
       "      <td>0</td>\n",
       "      <td>0.0</td>\n",
       "      <td>0.00000</td>\n",
       "      <td>0</td>\n",
       "      <td>0</td>\n",
       "      <td>Bot</td>\n",
       "    </tr>\n",
       "    <tr>\n",
       "      <th>...</th>\n",
       "      <td>...</td>\n",
       "      <td>...</td>\n",
       "      <td>...</td>\n",
       "      <td>...</td>\n",
       "      <td>...</td>\n",
       "      <td>...</td>\n",
       "      <td>...</td>\n",
       "      <td>...</td>\n",
       "      <td>...</td>\n",
       "      <td>...</td>\n",
       "      <td>...</td>\n",
       "      <td>...</td>\n",
       "      <td>...</td>\n",
       "      <td>...</td>\n",
       "      <td>...</td>\n",
       "      <td>...</td>\n",
       "      <td>...</td>\n",
       "      <td>...</td>\n",
       "      <td>...</td>\n",
       "      <td>...</td>\n",
       "      <td>...</td>\n",
       "    </tr>\n",
       "    <tr>\n",
       "      <th>2732770</th>\n",
       "      <td>444</td>\n",
       "      <td>119259012</td>\n",
       "      <td>2801</td>\n",
       "      <td>2069</td>\n",
       "      <td>12264</td>\n",
       "      <td>7879536</td>\n",
       "      <td>4344</td>\n",
       "      <td>0</td>\n",
       "      <td>4.378436</td>\n",
       "      <td>83.107845</td>\n",
       "      <td>...</td>\n",
       "      <td>32</td>\n",
       "      <td>0.0</td>\n",
       "      <td>0.00000</td>\n",
       "      <td>0</td>\n",
       "      <td>0</td>\n",
       "      <td>0.0</td>\n",
       "      <td>0.00000</td>\n",
       "      <td>0</td>\n",
       "      <td>0</td>\n",
       "      <td>Heartbleed</td>\n",
       "    </tr>\n",
       "    <tr>\n",
       "      <th>2732956</th>\n",
       "      <td>444</td>\n",
       "      <td>119257653</td>\n",
       "      <td>2802</td>\n",
       "      <td>2067</td>\n",
       "      <td>20858</td>\n",
       "      <td>7812389</td>\n",
       "      <td>5792</td>\n",
       "      <td>0</td>\n",
       "      <td>7.443969</td>\n",
       "      <td>126.045811</td>\n",
       "      <td>...</td>\n",
       "      <td>32</td>\n",
       "      <td>0.0</td>\n",
       "      <td>0.00000</td>\n",
       "      <td>0</td>\n",
       "      <td>0</td>\n",
       "      <td>0.0</td>\n",
       "      <td>0.00000</td>\n",
       "      <td>0</td>\n",
       "      <td>0</td>\n",
       "      <td>Heartbleed</td>\n",
       "    </tr>\n",
       "    <tr>\n",
       "      <th>2733041</th>\n",
       "      <td>444</td>\n",
       "      <td>119299621</td>\n",
       "      <td>2805</td>\n",
       "      <td>2028</td>\n",
       "      <td>13712</td>\n",
       "      <td>7878627</td>\n",
       "      <td>5792</td>\n",
       "      <td>0</td>\n",
       "      <td>4.888414</td>\n",
       "      <td>110.120790</td>\n",
       "      <td>...</td>\n",
       "      <td>32</td>\n",
       "      <td>0.0</td>\n",
       "      <td>0.00000</td>\n",
       "      <td>0</td>\n",
       "      <td>0</td>\n",
       "      <td>0.0</td>\n",
       "      <td>0.00000</td>\n",
       "      <td>0</td>\n",
       "      <td>0</td>\n",
       "      <td>Heartbleed</td>\n",
       "    </tr>\n",
       "    <tr>\n",
       "      <th>2733047</th>\n",
       "      <td>444</td>\n",
       "      <td>119296592</td>\n",
       "      <td>2797</td>\n",
       "      <td>2006</td>\n",
       "      <td>13712</td>\n",
       "      <td>7878088</td>\n",
       "      <td>5792</td>\n",
       "      <td>0</td>\n",
       "      <td>4.902395</td>\n",
       "      <td>110.277907</td>\n",
       "      <td>...</td>\n",
       "      <td>32</td>\n",
       "      <td>0.0</td>\n",
       "      <td>0.00000</td>\n",
       "      <td>0</td>\n",
       "      <td>0</td>\n",
       "      <td>0.0</td>\n",
       "      <td>0.00000</td>\n",
       "      <td>0</td>\n",
       "      <td>0</td>\n",
       "      <td>Heartbleed</td>\n",
       "    </tr>\n",
       "    <tr>\n",
       "      <th>2733059</th>\n",
       "      <td>444</td>\n",
       "      <td>24719667</td>\n",
       "      <td>590</td>\n",
       "      <td>436</td>\n",
       "      <td>7442</td>\n",
       "      <td>1636683</td>\n",
       "      <td>5792</td>\n",
       "      <td>0</td>\n",
       "      <td>12.613559</td>\n",
       "      <td>238.708658</td>\n",
       "      <td>...</td>\n",
       "      <td>32</td>\n",
       "      <td>0.0</td>\n",
       "      <td>0.00000</td>\n",
       "      <td>0</td>\n",
       "      <td>0</td>\n",
       "      <td>0.0</td>\n",
       "      <td>0.00000</td>\n",
       "      <td>0</td>\n",
       "      <td>0</td>\n",
       "      <td>Heartbleed</td>\n",
       "    </tr>\n",
       "  </tbody>\n",
       "</table>\n",
       "<p>4183 rows × 79 columns</p>\n",
       "</div>"
      ]
     },
     "execution_count": 5,
     "metadata": {},
     "output_type": "execute_result"
    }
   ],
   "execution_count": 5
  },
  {
   "metadata": {
    "ExecuteTime": {
     "end_time": "2024-09-12T07:51:47.562053Z",
     "start_time": "2024-09-12T07:51:47.551090Z"
    }
   },
   "cell_type": "code",
   "source": "del(data)",
   "outputs": [],
   "execution_count": 9
  },
  {
   "metadata": {
    "ExecuteTime": {
     "end_time": "2024-09-12T07:51:50.292929Z",
     "start_time": "2024-09-12T07:51:48.701326Z"
    }
   },
   "cell_type": "code",
   "source": [
    "data = clean[~clean.label.str.contains(\"|\".join(low_member_labels))].sample(frac=.1, random_state=1)\n",
    "data = pd.concat([data, low_member_data])\n",
    "data"
   ],
   "outputs": [
    {
     "data": {
      "text/plain": [
       "         destination_port  flow_duration  total_fwd_packets  \\\n",
       "2256289                80       67429791                  9   \n",
       "1788392             53510           2653                  2   \n",
       "2794319               443         145276                  1   \n",
       "1970600             54230            146                  1   \n",
       "339126               1218             79                  1   \n",
       "...                   ...            ...                ...   \n",
       "2732770               444      119259012               2801   \n",
       "2732956               444      119257653               2802   \n",
       "2733041               444      119299621               2805   \n",
       "2733047               444      119296592               2797   \n",
       "2733059               444       24719667                590   \n",
       "\n",
       "         total_backward_packets  total_length_of_fwd_packets  \\\n",
       "2256289                       7                          384   \n",
       "1788392                       1                            0   \n",
       "2794319                       1                            0   \n",
       "1970600                       1                            0   \n",
       "339126                        1                            2   \n",
       "...                         ...                          ...   \n",
       "2732770                    2069                        12264   \n",
       "2732956                    2067                        20858   \n",
       "2733041                    2028                        13712   \n",
       "2733047                    2006                        13712   \n",
       "2733059                     436                         7442   \n",
       "\n",
       "         total_length_of_bwd_packets  fwd_packet_length_max  \\\n",
       "2256289                        11595                    384   \n",
       "1788392                            0                      0   \n",
       "2794319                            0                      0   \n",
       "1970600                            0                      0   \n",
       "339126                             6                      2   \n",
       "...                              ...                    ...   \n",
       "2732770                      7879536                   4344   \n",
       "2732956                      7812389                   5792   \n",
       "2733041                      7878627                   5792   \n",
       "2733047                      7878088                   5792   \n",
       "2733059                      1636683                   5792   \n",
       "\n",
       "         fwd_packet_length_min  fwd_packet_length_mean  fwd_packet_length_std  \\\n",
       "2256289                      0               42.666667             128.000000   \n",
       "1788392                      0                0.000000               0.000000   \n",
       "2794319                      0                0.000000               0.000000   \n",
       "1970600                      0                0.000000               0.000000   \n",
       "339126                       2                2.000000               0.000000   \n",
       "...                        ...                     ...                    ...   \n",
       "2732770                      0                4.378436              83.107845   \n",
       "2732956                      0                7.443969             126.045811   \n",
       "2733041                      0                4.888414             110.120790   \n",
       "2733047                      0                4.902395             110.277907   \n",
       "2733059                      0               12.613559             238.708658   \n",
       "\n",
       "         ...  min_seg_size_forward  active_mean  active_std  active_max  \\\n",
       "2256289  ...                    32       2047.0         0.0        2047   \n",
       "1788392  ...                    20          0.0         0.0           0   \n",
       "2794319  ...                    32          0.0         0.0           0   \n",
       "1970600  ...                    20          0.0         0.0           0   \n",
       "339126   ...                    24          0.0         0.0           0   \n",
       "...      ...                   ...          ...         ...         ...   \n",
       "2732770  ...                    32          0.0         0.0           0   \n",
       "2732956  ...                    32          0.0         0.0           0   \n",
       "2733041  ...                    32          0.0         0.0           0   \n",
       "2733047  ...                    32          0.0         0.0           0   \n",
       "2733059  ...                    32          0.0         0.0           0   \n",
       "\n",
       "         active_min   idle_mean  idle_std  idle_max  idle_min       label  \n",
       "2256289        2047  67300000.0       0.0  67300000  67300000    DoS_Hulk  \n",
       "1788392           0         0.0       0.0         0         0      BENIGN  \n",
       "2794319           0         0.0       0.0         0         0      BENIGN  \n",
       "1970600           0         0.0       0.0         0         0      BENIGN  \n",
       "339126            0         0.0       0.0         0         0    PortScan  \n",
       "...             ...         ...       ...       ...       ...         ...  \n",
       "2732770           0         0.0       0.0         0         0  Heartbleed  \n",
       "2732956           0         0.0       0.0         0         0  Heartbleed  \n",
       "2733041           0         0.0       0.0         0         0  Heartbleed  \n",
       "2733047           0         0.0       0.0         0         0  Heartbleed  \n",
       "2733059           0         0.0       0.0         0         0  Heartbleed  \n",
       "\n",
       "[286552 rows x 79 columns]"
      ],
      "text/html": [
       "<div>\n",
       "<style scoped>\n",
       "    .dataframe tbody tr th:only-of-type {\n",
       "        vertical-align: middle;\n",
       "    }\n",
       "\n",
       "    .dataframe tbody tr th {\n",
       "        vertical-align: top;\n",
       "    }\n",
       "\n",
       "    .dataframe thead th {\n",
       "        text-align: right;\n",
       "    }\n",
       "</style>\n",
       "<table border=\"1\" class=\"dataframe\">\n",
       "  <thead>\n",
       "    <tr style=\"text-align: right;\">\n",
       "      <th></th>\n",
       "      <th>destination_port</th>\n",
       "      <th>flow_duration</th>\n",
       "      <th>total_fwd_packets</th>\n",
       "      <th>total_backward_packets</th>\n",
       "      <th>total_length_of_fwd_packets</th>\n",
       "      <th>total_length_of_bwd_packets</th>\n",
       "      <th>fwd_packet_length_max</th>\n",
       "      <th>fwd_packet_length_min</th>\n",
       "      <th>fwd_packet_length_mean</th>\n",
       "      <th>fwd_packet_length_std</th>\n",
       "      <th>...</th>\n",
       "      <th>min_seg_size_forward</th>\n",
       "      <th>active_mean</th>\n",
       "      <th>active_std</th>\n",
       "      <th>active_max</th>\n",
       "      <th>active_min</th>\n",
       "      <th>idle_mean</th>\n",
       "      <th>idle_std</th>\n",
       "      <th>idle_max</th>\n",
       "      <th>idle_min</th>\n",
       "      <th>label</th>\n",
       "    </tr>\n",
       "  </thead>\n",
       "  <tbody>\n",
       "    <tr>\n",
       "      <th>2256289</th>\n",
       "      <td>80</td>\n",
       "      <td>67429791</td>\n",
       "      <td>9</td>\n",
       "      <td>7</td>\n",
       "      <td>384</td>\n",
       "      <td>11595</td>\n",
       "      <td>384</td>\n",
       "      <td>0</td>\n",
       "      <td>42.666667</td>\n",
       "      <td>128.000000</td>\n",
       "      <td>...</td>\n",
       "      <td>32</td>\n",
       "      <td>2047.0</td>\n",
       "      <td>0.0</td>\n",
       "      <td>2047</td>\n",
       "      <td>2047</td>\n",
       "      <td>67300000.0</td>\n",
       "      <td>0.0</td>\n",
       "      <td>67300000</td>\n",
       "      <td>67300000</td>\n",
       "      <td>DoS_Hulk</td>\n",
       "    </tr>\n",
       "    <tr>\n",
       "      <th>1788392</th>\n",
       "      <td>53510</td>\n",
       "      <td>2653</td>\n",
       "      <td>2</td>\n",
       "      <td>1</td>\n",
       "      <td>0</td>\n",
       "      <td>0</td>\n",
       "      <td>0</td>\n",
       "      <td>0</td>\n",
       "      <td>0.000000</td>\n",
       "      <td>0.000000</td>\n",
       "      <td>...</td>\n",
       "      <td>20</td>\n",
       "      <td>0.0</td>\n",
       "      <td>0.0</td>\n",
       "      <td>0</td>\n",
       "      <td>0</td>\n",
       "      <td>0.0</td>\n",
       "      <td>0.0</td>\n",
       "      <td>0</td>\n",
       "      <td>0</td>\n",
       "      <td>BENIGN</td>\n",
       "    </tr>\n",
       "    <tr>\n",
       "      <th>2794319</th>\n",
       "      <td>443</td>\n",
       "      <td>145276</td>\n",
       "      <td>1</td>\n",
       "      <td>1</td>\n",
       "      <td>0</td>\n",
       "      <td>0</td>\n",
       "      <td>0</td>\n",
       "      <td>0</td>\n",
       "      <td>0.000000</td>\n",
       "      <td>0.000000</td>\n",
       "      <td>...</td>\n",
       "      <td>32</td>\n",
       "      <td>0.0</td>\n",
       "      <td>0.0</td>\n",
       "      <td>0</td>\n",
       "      <td>0</td>\n",
       "      <td>0.0</td>\n",
       "      <td>0.0</td>\n",
       "      <td>0</td>\n",
       "      <td>0</td>\n",
       "      <td>BENIGN</td>\n",
       "    </tr>\n",
       "    <tr>\n",
       "      <th>1970600</th>\n",
       "      <td>54230</td>\n",
       "      <td>146</td>\n",
       "      <td>1</td>\n",
       "      <td>1</td>\n",
       "      <td>0</td>\n",
       "      <td>0</td>\n",
       "      <td>0</td>\n",
       "      <td>0</td>\n",
       "      <td>0.000000</td>\n",
       "      <td>0.000000</td>\n",
       "      <td>...</td>\n",
       "      <td>20</td>\n",
       "      <td>0.0</td>\n",
       "      <td>0.0</td>\n",
       "      <td>0</td>\n",
       "      <td>0</td>\n",
       "      <td>0.0</td>\n",
       "      <td>0.0</td>\n",
       "      <td>0</td>\n",
       "      <td>0</td>\n",
       "      <td>BENIGN</td>\n",
       "    </tr>\n",
       "    <tr>\n",
       "      <th>339126</th>\n",
       "      <td>1218</td>\n",
       "      <td>79</td>\n",
       "      <td>1</td>\n",
       "      <td>1</td>\n",
       "      <td>2</td>\n",
       "      <td>6</td>\n",
       "      <td>2</td>\n",
       "      <td>2</td>\n",
       "      <td>2.000000</td>\n",
       "      <td>0.000000</td>\n",
       "      <td>...</td>\n",
       "      <td>24</td>\n",
       "      <td>0.0</td>\n",
       "      <td>0.0</td>\n",
       "      <td>0</td>\n",
       "      <td>0</td>\n",
       "      <td>0.0</td>\n",
       "      <td>0.0</td>\n",
       "      <td>0</td>\n",
       "      <td>0</td>\n",
       "      <td>PortScan</td>\n",
       "    </tr>\n",
       "    <tr>\n",
       "      <th>...</th>\n",
       "      <td>...</td>\n",
       "      <td>...</td>\n",
       "      <td>...</td>\n",
       "      <td>...</td>\n",
       "      <td>...</td>\n",
       "      <td>...</td>\n",
       "      <td>...</td>\n",
       "      <td>...</td>\n",
       "      <td>...</td>\n",
       "      <td>...</td>\n",
       "      <td>...</td>\n",
       "      <td>...</td>\n",
       "      <td>...</td>\n",
       "      <td>...</td>\n",
       "      <td>...</td>\n",
       "      <td>...</td>\n",
       "      <td>...</td>\n",
       "      <td>...</td>\n",
       "      <td>...</td>\n",
       "      <td>...</td>\n",
       "      <td>...</td>\n",
       "    </tr>\n",
       "    <tr>\n",
       "      <th>2732770</th>\n",
       "      <td>444</td>\n",
       "      <td>119259012</td>\n",
       "      <td>2801</td>\n",
       "      <td>2069</td>\n",
       "      <td>12264</td>\n",
       "      <td>7879536</td>\n",
       "      <td>4344</td>\n",
       "      <td>0</td>\n",
       "      <td>4.378436</td>\n",
       "      <td>83.107845</td>\n",
       "      <td>...</td>\n",
       "      <td>32</td>\n",
       "      <td>0.0</td>\n",
       "      <td>0.0</td>\n",
       "      <td>0</td>\n",
       "      <td>0</td>\n",
       "      <td>0.0</td>\n",
       "      <td>0.0</td>\n",
       "      <td>0</td>\n",
       "      <td>0</td>\n",
       "      <td>Heartbleed</td>\n",
       "    </tr>\n",
       "    <tr>\n",
       "      <th>2732956</th>\n",
       "      <td>444</td>\n",
       "      <td>119257653</td>\n",
       "      <td>2802</td>\n",
       "      <td>2067</td>\n",
       "      <td>20858</td>\n",
       "      <td>7812389</td>\n",
       "      <td>5792</td>\n",
       "      <td>0</td>\n",
       "      <td>7.443969</td>\n",
       "      <td>126.045811</td>\n",
       "      <td>...</td>\n",
       "      <td>32</td>\n",
       "      <td>0.0</td>\n",
       "      <td>0.0</td>\n",
       "      <td>0</td>\n",
       "      <td>0</td>\n",
       "      <td>0.0</td>\n",
       "      <td>0.0</td>\n",
       "      <td>0</td>\n",
       "      <td>0</td>\n",
       "      <td>Heartbleed</td>\n",
       "    </tr>\n",
       "    <tr>\n",
       "      <th>2733041</th>\n",
       "      <td>444</td>\n",
       "      <td>119299621</td>\n",
       "      <td>2805</td>\n",
       "      <td>2028</td>\n",
       "      <td>13712</td>\n",
       "      <td>7878627</td>\n",
       "      <td>5792</td>\n",
       "      <td>0</td>\n",
       "      <td>4.888414</td>\n",
       "      <td>110.120790</td>\n",
       "      <td>...</td>\n",
       "      <td>32</td>\n",
       "      <td>0.0</td>\n",
       "      <td>0.0</td>\n",
       "      <td>0</td>\n",
       "      <td>0</td>\n",
       "      <td>0.0</td>\n",
       "      <td>0.0</td>\n",
       "      <td>0</td>\n",
       "      <td>0</td>\n",
       "      <td>Heartbleed</td>\n",
       "    </tr>\n",
       "    <tr>\n",
       "      <th>2733047</th>\n",
       "      <td>444</td>\n",
       "      <td>119296592</td>\n",
       "      <td>2797</td>\n",
       "      <td>2006</td>\n",
       "      <td>13712</td>\n",
       "      <td>7878088</td>\n",
       "      <td>5792</td>\n",
       "      <td>0</td>\n",
       "      <td>4.902395</td>\n",
       "      <td>110.277907</td>\n",
       "      <td>...</td>\n",
       "      <td>32</td>\n",
       "      <td>0.0</td>\n",
       "      <td>0.0</td>\n",
       "      <td>0</td>\n",
       "      <td>0</td>\n",
       "      <td>0.0</td>\n",
       "      <td>0.0</td>\n",
       "      <td>0</td>\n",
       "      <td>0</td>\n",
       "      <td>Heartbleed</td>\n",
       "    </tr>\n",
       "    <tr>\n",
       "      <th>2733059</th>\n",
       "      <td>444</td>\n",
       "      <td>24719667</td>\n",
       "      <td>590</td>\n",
       "      <td>436</td>\n",
       "      <td>7442</td>\n",
       "      <td>1636683</td>\n",
       "      <td>5792</td>\n",
       "      <td>0</td>\n",
       "      <td>12.613559</td>\n",
       "      <td>238.708658</td>\n",
       "      <td>...</td>\n",
       "      <td>32</td>\n",
       "      <td>0.0</td>\n",
       "      <td>0.0</td>\n",
       "      <td>0</td>\n",
       "      <td>0</td>\n",
       "      <td>0.0</td>\n",
       "      <td>0.0</td>\n",
       "      <td>0</td>\n",
       "      <td>0</td>\n",
       "      <td>Heartbleed</td>\n",
       "    </tr>\n",
       "  </tbody>\n",
       "</table>\n",
       "<p>286552 rows × 79 columns</p>\n",
       "</div>"
      ]
     },
     "execution_count": 10,
     "metadata": {},
     "output_type": "execute_result"
    }
   ],
   "execution_count": 10
  },
  {
   "cell_type": "code",
   "metadata": {
    "ExecuteTime": {
     "end_time": "2024-09-12T07:51:52.711707Z",
     "start_time": "2024-09-12T07:51:52.628443Z"
    }
   },
   "source": [
    "data = data.append(low_member_data, ignore_index=True)"
   ],
   "outputs": [],
   "execution_count": 11
  },
  {
   "cell_type": "code",
   "metadata": {
    "ExecuteTime": {
     "end_time": "2024-09-06T03:47:47.630750Z",
     "start_time": "2024-09-06T03:47:45.801817Z"
    }
   },
   "source": "x_train, x_test, y_train, y_test = preproc_data(data, train_sample=0.75, pca_dim=31)",
   "outputs": [],
   "execution_count": 59
  },
  {
   "metadata": {
    "ExecuteTime": {
     "end_time": "2024-09-06T03:48:21.368965Z",
     "start_time": "2024-09-06T03:48:21.365023Z"
    }
   },
   "cell_type": "code",
   "source": "print(x_train.shape, x_test.shape, y_train.shape, y_test.shape)",
   "outputs": [
    {
     "name": "stdout",
     "output_type": "stream",
     "text": [
      "(214914, 31) (71638, 31) (214914, 1) (71638, 1)\n"
     ]
    }
   ],
   "execution_count": 61
  },
  {
   "cell_type": "code",
   "metadata": {
    "ExecuteTime": {
     "end_time": "2024-09-02T05:29:16.896628Z",
     "start_time": "2024-09-02T05:29:16.427946Z"
    }
   },
   "source": [
    "folder = \"data/preserve10_2018/\"\n",
    "if not os.path.exists(folder):\n",
    "    os.makedirs(folder)\n",
    "x_train.to_csv(\"data/preserve10_2018/x_train.csv\", x_train)\n",
    "pd.save(\"data/preserve10_2018/y_train.csv\", y_train)\n",
    "pd.save(\"data/preserve10_2018/x_test.csv\", x_test)\n",
    "pd.save(\"data/preserve10_2018/y_test.csv\", y_test)"
   ],
   "outputs": [],
   "execution_count": 13
  },
  {
   "cell_type": "markdown",
   "metadata": {},
   "source": [
    "### 25%"
   ]
  },
  {
   "cell_type": "code",
   "metadata": {
    "scrolled": false,
    "ExecuteTime": {
     "end_time": "2024-08-07T04:05:16.360606Z",
     "start_time": "2024-08-07T04:05:15.729396Z"
    }
   },
   "source": [
    "low_member_data = clean[clean.label.str.contains(\"|\".join(low_member_labels))]"
   ],
   "outputs": [],
   "execution_count": 20
  },
  {
   "cell_type": "code",
   "metadata": {
    "ExecuteTime": {
     "end_time": "2024-08-07T04:05:18.245758Z",
     "start_time": "2024-08-07T04:05:16.361605Z"
    }
   },
   "source": [
    "data = clean[~clean.label.str.contains(\"|\".join(low_member_labels))].sample(frac=.25, random_state=1)"
   ],
   "outputs": [],
   "execution_count": 21
  },
  {
   "cell_type": "code",
   "metadata": {
    "ExecuteTime": {
     "end_time": "2024-08-07T04:05:18.441351Z",
     "start_time": "2024-08-07T04:05:18.246761Z"
    }
   },
   "source": [
    "data = data.append(low_member_data, ignore_index=True)"
   ],
   "outputs": [],
   "execution_count": 22
  },
  {
   "cell_type": "code",
   "metadata": {
    "ExecuteTime": {
     "end_time": "2024-08-07T04:05:23.635034Z",
     "start_time": "2024-08-07T04:05:18.441351Z"
    }
   },
   "source": [
    "x_train, x_test, y_train, y_test = preproc_data(data, train_sample=0.75, pca_dim=31)"
   ],
   "outputs": [],
   "execution_count": 23
  },
  {
   "cell_type": "code",
   "metadata": {
    "ExecuteTime": {
     "end_time": "2024-08-07T04:05:24.198640Z",
     "start_time": "2024-08-07T04:05:23.636034Z"
    }
   },
   "source": [
    "folder = \"data/preserve25/\"\n",
    "if not os.path.exists(folder):\n",
    "    os.makedirs(folder)\n",
    "np.save(\"data/preserve25/x_train.npy\", x_train)\n",
    "np.save(\"data/preserve25/y_train.npy\", y_train)\n",
    "np.save(\"data/preserve25/x_test.npy\", x_test)\n",
    "np.save(\"data/preserve25/y_test.npy\", y_test)"
   ],
   "outputs": [],
   "execution_count": 24
  },
  {
   "cell_type": "markdown",
   "metadata": {},
   "source": [
    "### 50%"
   ]
  },
  {
   "metadata": {
    "ExecuteTime": {
     "end_time": "2024-09-10T04:34:41.885367Z",
     "start_time": "2024-09-10T04:34:41.882193Z"
    }
   },
   "cell_type": "code",
   "source": "data.shape",
   "outputs": [
    {
     "data": {
      "text/plain": [
       "(1411846, 79)"
      ]
     },
     "execution_count": 33,
     "metadata": {},
     "output_type": "execute_result"
    }
   ],
   "execution_count": 33
  },
  {
   "cell_type": "code",
   "metadata": {
    "scrolled": false,
    "ExecuteTime": {
     "end_time": "2024-09-10T04:34:37.185781Z",
     "start_time": "2024-09-10T04:34:36.551339Z"
    }
   },
   "source": "low_member_data = clean[clean.label.str.contains(\"|\".join(low_member_labels))]",
   "outputs": [],
   "execution_count": 31
  },
  {
   "cell_type": "code",
   "metadata": {
    "ExecuteTime": {
     "end_time": "2024-09-10T04:34:40.812247Z",
     "start_time": "2024-09-10T04:34:38.416475Z"
    }
   },
   "source": [
    "data = clean[~clean.label.str.contains(\"|\".join(low_member_labels))].sample(frac=.5, random_state=1)"
   ],
   "outputs": [],
   "execution_count": 32
  },
  {
   "cell_type": "code",
   "metadata": {
    "ExecuteTime": {
     "end_time": "2024-09-10T04:34:43.593464Z",
     "start_time": "2024-09-10T04:34:43.218436Z"
    }
   },
   "source": [
    "data = data.append(low_member_data, ignore_index=True)"
   ],
   "outputs": [],
   "execution_count": 34
  },
  {
   "cell_type": "code",
   "metadata": {
    "ExecuteTime": {
     "end_time": "2024-09-10T04:35:01.566438Z",
     "start_time": "2024-09-10T04:34:51.007576Z"
    }
   },
   "source": [
    "x_train, x_test, y_train, y_test = preproc_data(data, train_sample=0.75, pca_dim=31)"
   ],
   "outputs": [],
   "execution_count": 35
  },
  {
   "cell_type": "code",
   "metadata": {
    "ExecuteTime": {
     "end_time": "2024-09-10T04:35:10.132426Z",
     "start_time": "2024-09-10T04:35:08.792187Z"
    }
   },
   "source": [
    "folder = \"data/preserve50/\"\n",
    "if not os.path.exists(folder):\n",
    "    os.makedirs(folder)\n",
    "np.save(\"data/preserve50/x_train.npy\", x_train)\n",
    "np.save(\"data/preserve50/y_train.npy\", y_train)\n",
    "np.save(\"data/preserve50/x_test.npy\", x_test)\n",
    "np.save(\"data/preserve50/y_test.npy\", y_test)"
   ],
   "outputs": [],
   "execution_count": 36
  },
  {
   "cell_type": "markdown",
   "metadata": {},
   "source": [
    "### 100%"
   ]
  },
  {
   "cell_type": "code",
   "metadata": {
    "ExecuteTime": {
     "end_time": "2024-08-07T04:06:02.264307Z",
     "start_time": "2024-08-07T04:05:40.365680Z"
    }
   },
   "source": [
    "x_train, x_test, y_train, y_test = preproc_data(clean, train_sample=0.75, pca_dim=31)"
   ],
   "outputs": [],
   "execution_count": 30
  },
  {
   "cell_type": "code",
   "metadata": {
    "ExecuteTime": {
     "end_time": "2024-08-07T04:06:04.973421Z",
     "start_time": "2024-08-07T04:06:02.265300Z"
    }
   },
   "source": [
    "folder = \"data/preserve100/\"\n",
    "if not os.path.exists(folder):\n",
    "    os.makedirs(folder)\n",
    "np.save(\"data/preserve100/x_train.npy\", x_train)\n",
    "np.save(\"data/preserve100/y_train.npy\", y_train)\n",
    "np.save(\"data/preserve100/x_test.npy\", x_test)\n",
    "np.save(\"data/preserve100/y_test.npy\", y_test)"
   ],
   "outputs": [],
   "execution_count": 31
  },
  {
   "metadata": {},
   "cell_type": "code",
   "outputs": [],
   "execution_count": null,
   "source": ""
  },
  {
   "metadata": {},
   "cell_type": "markdown",
   "source": [
    "**csv_2017 / 2018 데이터 샘플링**\n",
    "\n",
    "benign: 5만 attack: 5만"
   ]
  },
  {
   "metadata": {
    "ExecuteTime": {
     "end_time": "2024-09-04T04:44:13.805786Z",
     "start_time": "2024-09-04T04:43:38.468916Z"
    }
   },
   "cell_type": "code",
   "source": [
    "import pandas as pd\n",
    "\n",
    "# CSV 파일 읽기\n",
    "# cic 2017\n",
    "#df = pd.read_csv('clean1.csv')\n",
    "# cic 2018\n",
    "df = pd.read_csv('clean_2018.csv')\n",
    "\n",
    "# label 컬럼 치환 (benign은 0, 나머지는 1로 치환)\n",
    "df['label'] = df['label'].apply(lambda x: 0 if x == 'Benign' or x == 0 else 1)\n",
    "print(df)\n",
    "\n",
    "# 라벨이 0인 데이터에서 5만개 샘플링\n",
    "label_0_sample = df[df['label'] == 0].sample(n=50000, random_state=42)\n",
    "\n",
    "# 라벨이 1인 데이터에서 5만개 샘플링\n",
    "label_1_sample = df[df['label'] == 1].sample(n=50000, random_state=42)\n",
    "\n",
    "# 두 샘플링 데이터를 합침\n",
    "sampled_df = pd.concat([label_0_sample, label_1_sample])\n",
    "\n",
    "# 샘플링된 데이터 확인\n",
    "print(sampled_df)\n",
    "\n",
    "# 샘플링된 데이터를 새로운 CSV 파일로 저장\n",
    "sampled_df.to_csv('sampled_2018data.csv', index=False)\n",
    "\n",
    "\n"
   ],
   "outputs": [
    {
     "name": "stdout",
     "output_type": "stream",
     "text": [
      "         dst_port  protocol  flow_duration  tot_fwd_pkts  tot_bwd_pkts  \\\n",
      "0             443         6         141385             9             7   \n",
      "1           49684         6            281             2             1   \n",
      "2             443         6         279824            11            15   \n",
      "3             443         6            132             2             0   \n",
      "4             443         6         274016             9            13   \n",
      "...           ...       ...            ...           ...           ...   \n",
      "5482412     20000         6              2             1             1   \n",
      "5482413        23         6              3             1             1   \n",
      "5482414       425         6              2             1             1   \n",
      "5482415        23         6             22             1             1   \n",
      "5482416       443         6              2             1             1   \n",
      "\n",
      "         totlen_fwd_pkts  totlen_bwd_pkts  fwd_pkt_len_max  fwd_pkt_len_min  \\\n",
      "0                  553.0           3773.0            202.0              0.0   \n",
      "1                   38.0              0.0             38.0              0.0   \n",
      "2                 1086.0          10527.0            385.0              0.0   \n",
      "3                    0.0              0.0              0.0              0.0   \n",
      "4                 1285.0           6141.0            517.0              0.0   \n",
      "...                  ...              ...              ...              ...   \n",
      "5482412              0.0              0.0              0.0              0.0   \n",
      "5482413              0.0              0.0              0.0              0.0   \n",
      "5482414              0.0              0.0              0.0              0.0   \n",
      "5482415              0.0              0.0              0.0              0.0   \n",
      "5482416              0.0              0.0              0.0              0.0   \n",
      "\n",
      "         fwd_pkt_len_mean  ...  fwd_seg_size_min  active_mean  active_std  \\\n",
      "0               61.444444  ...                20          0.0         0.0   \n",
      "1               19.000000  ...                20          0.0         0.0   \n",
      "2               98.727273  ...                20          0.0         0.0   \n",
      "3                0.000000  ...                20          0.0         0.0   \n",
      "4              142.777778  ...                20          0.0         0.0   \n",
      "...                   ...  ...               ...          ...         ...   \n",
      "5482412          0.000000  ...                24          0.0         0.0   \n",
      "5482413          0.000000  ...                24          0.0         0.0   \n",
      "5482414          0.000000  ...                24          0.0         0.0   \n",
      "5482415          0.000000  ...                24          0.0         0.0   \n",
      "5482416          0.000000  ...                24          0.0         0.0   \n",
      "\n",
      "         active_max  active_min  idle_mean  idle_std  idle_max  idle_min  \\\n",
      "0               0.0         0.0        0.0       0.0       0.0       0.0   \n",
      "1               0.0         0.0        0.0       0.0       0.0       0.0   \n",
      "2               0.0         0.0        0.0       0.0       0.0       0.0   \n",
      "3               0.0         0.0        0.0       0.0       0.0       0.0   \n",
      "4               0.0         0.0        0.0       0.0       0.0       0.0   \n",
      "...             ...         ...        ...       ...       ...       ...   \n",
      "5482412         0.0         0.0        0.0       0.0       0.0       0.0   \n",
      "5482413         0.0         0.0        0.0       0.0       0.0       0.0   \n",
      "5482414         0.0         0.0        0.0       0.0       0.0       0.0   \n",
      "5482415         0.0         0.0        0.0       0.0       0.0       0.0   \n",
      "5482416         0.0         0.0        0.0       0.0       0.0       0.0   \n",
      "\n",
      "         label  \n",
      "0            0  \n",
      "1            0  \n",
      "2            0  \n",
      "3            0  \n",
      "4            0  \n",
      "...        ...  \n",
      "5482412      1  \n",
      "5482413      1  \n",
      "5482414      1  \n",
      "5482415      1  \n",
      "5482416      1  \n",
      "\n",
      "[5482417 rows x 79 columns]\n",
      "         dst_port  protocol  flow_duration  tot_fwd_pkts  tot_bwd_pkts  \\\n",
      "554815       3389         6        3442726            10             7   \n",
      "1986130        53        17           1093             1             1   \n",
      "1388226       443         6             26             1             1   \n",
      "1438105        53        17            397             1             1   \n",
      "531768      51698         6             46             1             1   \n",
      "...           ...       ...            ...           ...           ...   \n",
      "3976630        80         6        1361760             3             4   \n",
      "4195519        80         6       27382861             2             0   \n",
      "4335601        80         6         198288             5             3   \n",
      "5369003        80         6          11218             2             0   \n",
      "3096800        21         6              2             1             1   \n",
      "\n",
      "         totlen_fwd_pkts  totlen_bwd_pkts  fwd_pkt_len_max  fwd_pkt_len_min  \\\n",
      "554815            1128.0           1581.0            661.0              0.0   \n",
      "1986130             40.0            139.0             40.0             40.0   \n",
      "1388226              0.0              0.0              0.0              0.0   \n",
      "1438105             47.0            175.0             47.0             47.0   \n",
      "531768               0.0              0.0              0.0              0.0   \n",
      "...                  ...              ...              ...              ...   \n",
      "3976630             20.0            964.0             20.0              0.0   \n",
      "4195519              0.0              0.0              0.0              0.0   \n",
      "4335601            314.0            972.0            314.0              0.0   \n",
      "5369003              0.0              0.0              0.0              0.0   \n",
      "3096800              0.0              0.0              0.0              0.0   \n",
      "\n",
      "         fwd_pkt_len_mean  ...  fwd_seg_size_min  active_mean  active_std  \\\n",
      "554815         112.800000  ...                20          0.0         0.0   \n",
      "1986130         40.000000  ...                 8          0.0         0.0   \n",
      "1388226          0.000000  ...                20          0.0         0.0   \n",
      "1438105         47.000000  ...                 8          0.0         0.0   \n",
      "531768           0.000000  ...                20          0.0         0.0   \n",
      "...                   ...  ...               ...          ...         ...   \n",
      "3976630          6.666667  ...                20          0.0         0.0   \n",
      "4195519          0.000000  ...                20          0.0         0.0   \n",
      "4335601         62.800000  ...                32          0.0         0.0   \n",
      "5369003          0.000000  ...                20          0.0         0.0   \n",
      "3096800          0.000000  ...                40          0.0         0.0   \n",
      "\n",
      "         active_max  active_min   idle_mean  idle_std    idle_max    idle_min  \\\n",
      "554815          0.0         0.0         0.0       0.0         0.0         0.0   \n",
      "1986130         0.0         0.0         0.0       0.0         0.0         0.0   \n",
      "1388226         0.0         0.0         0.0       0.0         0.0         0.0   \n",
      "1438105         0.0         0.0         0.0       0.0         0.0         0.0   \n",
      "531768          0.0         0.0         0.0       0.0         0.0         0.0   \n",
      "...             ...         ...         ...       ...         ...         ...   \n",
      "3976630         0.0         0.0         0.0       0.0         0.0         0.0   \n",
      "4195519         0.0         0.0  27400000.0       0.0  27400000.0  27400000.0   \n",
      "4335601         0.0         0.0         0.0       0.0         0.0         0.0   \n",
      "5369003         0.0         0.0         0.0       0.0         0.0         0.0   \n",
      "3096800         0.0         0.0         0.0       0.0         0.0         0.0   \n",
      "\n",
      "         label  \n",
      "554815       0  \n",
      "1986130      0  \n",
      "1388226      0  \n",
      "1438105      0  \n",
      "531768       0  \n",
      "...        ...  \n",
      "3976630      1  \n",
      "4195519      1  \n",
      "4335601      1  \n",
      "5369003      1  \n",
      "3096800      1  \n",
      "\n",
      "[100000 rows x 79 columns]\n"
     ]
    }
   ],
   "execution_count": 20
  },
  {
   "metadata": {},
   "cell_type": "markdown",
   "source": "train, test 데이터를 csv로 추출"
  },
  {
   "metadata": {
    "ExecuteTime": {
     "end_time": "2024-09-04T05:32:10.266505Z",
     "start_time": "2024-09-04T05:32:10.262068Z"
    }
   },
   "cell_type": "code",
   "source": [
    "def train_to_csv(dataset, train_sample: float):\n",
    "\n",
    "    # Label encode\n",
    "    le = LabelEncoder()\n",
    "    dataset['label'] = le.fit_transform(dataset['label'])\n",
    "\n",
    "    # Train test split\n",
    "    x_train, x_test, y_train, y_test = train_test_split(dataset.iloc[:,:-1],\n",
    "                                                        dataset['label'],\n",
    "                                                        test_size=1-train_sample,\n",
    "                                                        random_state=0)\n",
    "    return x_train, x_test, y_train, y_test"
   ],
   "outputs": [],
   "execution_count": 23
  },
  {
   "metadata": {
    "ExecuteTime": {
     "end_time": "2024-09-06T03:48:35.589090Z",
     "start_time": "2024-09-06T03:48:34.668723Z"
    }
   },
   "cell_type": "code",
   "source": [
    "clean2018 = pd.read_csv(\"./sampled_cic2018_data.csv\")\n",
    "x_train, x_test, y_train, y_test = preproc_data(clean2018, train_sample=0.75, pca_dim=31)\n",
    "\n",
    "print(x_train.shape, x_test.shape, y_train.shape, y_test.shape)\n",
    "\n",
    "np.save(\"./train_to_csv2018/x_train.npy\", x_train)\n",
    "np.save(\"./train_to_csv2018/x_test.npy\", x_test)\n",
    "np.save(\"./train_to_csv2018/y_train.npy\", y_train)\n",
    "np.save(\"./train_to_csv2018/y_test.npy\", y_test)"
   ],
   "outputs": [
    {
     "name": "stdout",
     "output_type": "stream",
     "text": [
      "(75000, 31) (25000, 31) (75000, 1) (25000, 1)\n"
     ]
    }
   ],
   "execution_count": 62
  }
 ],
 "metadata": {
  "kernelspec": {
   "display_name": "Python 3 (ipykernel)",
   "language": "python",
   "name": "python3"
  },
  "language_info": {
   "codemirror_mode": {
    "name": "ipython",
    "version": 3
   },
   "file_extension": ".py",
   "mimetype": "text/x-python",
   "name": "python",
   "nbconvert_exporter": "python",
   "pygments_lexer": "ipython3",
   "version": "3.8.10"
  },
  "toc": {
   "base_numbering": 1,
   "nav_menu": {},
   "number_sections": true,
   "sideBar": true,
   "skip_h1_title": false,
   "title_cell": "Table of Contents",
   "title_sidebar": "Contents",
   "toc_cell": false,
   "toc_position": {},
   "toc_section_display": true,
   "toc_window_display": false
  },
  "varInspector": {
   "cols": {
    "lenName": 16,
    "lenType": 16,
    "lenVar": 40
   },
   "kernels_config": {
    "python": {
     "delete_cmd_postfix": "",
     "delete_cmd_prefix": "del ",
     "library": "var_list.py",
     "varRefreshCmd": "print(var_dic_list())"
    },
    "r": {
     "delete_cmd_postfix": ") ",
     "delete_cmd_prefix": "rm(",
     "library": "var_list.r",
     "varRefreshCmd": "cat(var_dic_list()) "
    }
   },
   "types_to_exclude": [
    "module",
    "function",
    "builtin_function_or_method",
    "instance",
    "_Feature"
   ],
   "window_display": false
  }
 },
 "nbformat": 4,
 "nbformat_minor": 4
}
