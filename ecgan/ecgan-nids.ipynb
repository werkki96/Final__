{
 "cells": [
  {
   "cell_type": "code",
   "metadata": {
    "ExecuteTime": {
     "end_time": "2024-09-26T02:10:59.236111Z",
     "start_time": "2024-09-26T02:10:59.227141Z"
    }
   },
   "source": [
    "import tensorflow as tf\n",
    "\n",
    "from functools import partial\n",
    "import itertools\n",
    "import math\n",
    "\n",
    "import numpy as np\n",
    "import pandas as pd\n",
    "import matplotlib.pyplot as plt\n",
    "import tqdm\n",
    "\n",
    "from tensorflow.keras.layers import Input, Dense, Flatten, Dropout, Embedding, multiply, LeakyReLU, ReLU, Softmax\n",
    "from tensorflow.keras.models import Sequential, Model\n",
    "from tensorflow.keras.optimizers import Adam\n",
    "import tensorflow.keras.backend as K\n",
    "\n",
    "from tensorflow.python.framework.ops import disable_eager_execution, enable_eager_execution\n",
    "disable_eager_execution()\n",
    "# enable_eager_execution()\n",
    "\n",
    "from tensorflow.python.ops.numpy_ops import np_config\n",
    "np_config.enable_numpy_behavior()\n",
    "\n",
    "from tensorflow.keras.utils import to_categorical\n",
    "\n",
    "import warnings\n",
    "warnings.simplefilter(\"ignore\")"
   ],
   "outputs": [],
   "execution_count": 2
  },
  {
   "cell_type": "code",
   "metadata": {
    "ExecuteTime": {
     "end_time": "2024-09-10T04:58:46.623768Z",
     "start_time": "2024-09-10T04:58:46.616768Z"
    }
   },
   "source": [
    "tf.__version__"
   ],
   "outputs": [
    {
     "data": {
      "text/plain": [
       "'2.7.0'"
      ]
     },
     "execution_count": 2,
     "metadata": {},
     "output_type": "execute_result"
    }
   ],
   "execution_count": 2
  },
  {
   "cell_type": "code",
   "metadata": {
    "scrolled": true,
    "ExecuteTime": {
     "end_time": "2024-09-26T02:11:04.174128Z",
     "start_time": "2024-09-26T02:11:03.528708Z"
    }
   },
   "source": [
    "try:\n",
    "    gpus = tf.config.list_physical_devices('GPU')\n",
    "    tf.config.experimental.set_visible_devices(gpus[0], 'GPU')\n",
    "    logical_gpus = tf.config.experimental.list_logical_devices('GPU')\n",
    "    print(\"Physical GPUs:\", len(gpus))\n",
    "    print(\"Logical GPUs:\", len(logical_gpus))\n",
    "\n",
    "except RuntimeError as e:\n",
    "    # Visible devices must be set before GPUs have been initialized\n",
    "    print(e)\n",
    "    \n",
    "    \n",
    "gpus"
   ],
   "outputs": [
    {
     "name": "stdout",
     "output_type": "stream",
     "text": [
      "Physical GPUs: 1\n",
      "Logical GPUs: 1\n"
     ]
    },
    {
     "data": {
      "text/plain": [
       "[PhysicalDevice(name='/physical_device:GPU:0', device_type='GPU')]"
      ]
     },
     "execution_count": 3,
     "metadata": {},
     "output_type": "execute_result"
    }
   ],
   "execution_count": 3
  },
  {
   "cell_type": "markdown",
   "metadata": {},
   "source": "### Read data\n"
  },
  {
   "metadata": {
    "ExecuteTime": {
     "end_time": "2024-09-24T04:43:57.261786Z",
     "start_time": "2024-09-24T04:43:57.224893Z"
    }
   },
   "cell_type": "code",
   "source": [
    "x_train = np.load(\"../data-preprocessing/data/preserve10/x_train.npy\")\n",
    "y_train = np.load(\"../data-preprocessing/data/preserve10/y_train.npy\")\n",
    "x_test = np.load(\"../data-preprocessing/data/preserve10/x_test.npy\")\n",
    "y_test = np.load(\"../data-preprocessing/data/preserve10/y_test.npy\")"
   ],
   "outputs": [],
   "execution_count": 279
  },
  {
   "metadata": {
    "ExecuteTime": {
     "end_time": "2024-09-24T04:43:59.530350Z",
     "start_time": "2024-09-24T04:43:59.523371Z"
    }
   },
   "cell_type": "code",
   "source": "print(x_train.shape, y_train.shape, x_test.shape, y_test.shape)",
   "outputs": [
    {
     "name": "stdout",
     "output_type": "stream",
     "text": [
      "(214914, 31) (214914, 1) (71638, 31) (71638, 1)\n"
     ]
    }
   ],
   "execution_count": 280
  },
  {
   "metadata": {
    "ExecuteTime": {
     "end_time": "2024-09-24T04:44:29.174820Z",
     "start_time": "2024-09-24T04:44:29.163839Z"
    }
   },
   "cell_type": "code",
   "source": "y_test",
   "outputs": [
    {
     "data": {
      "text/plain": [
       "array([[0],\n",
       "       [0],\n",
       "       [0],\n",
       "       ...,\n",
       "       [0],\n",
       "       [0],\n",
       "       [0]])"
      ]
     },
     "execution_count": 283,
     "metadata": {},
     "output_type": "execute_result"
    }
   ],
   "execution_count": 283
  },
  {
   "metadata": {
    "ExecuteTime": {
     "end_time": "2024-09-12T06:41:55.591751Z",
     "start_time": "2024-09-12T06:41:55.584812Z"
    }
   },
   "cell_type": "code",
   "source": [
    "from sklearn.preprocessing import StandardScaler, Normalizer, LabelEncoder\n",
    "from sklearn.model_selection import train_test_split\n",
    "from sklearn.decomposition import PCA\n",
    "import pandas as pd\n",
    "\n",
    "#cleans = pd.read_csv(\"../data-preprocessing/sampled_cic2018_data.csv\")\n",
    "#cleans = pd.read_csv(\"../data-preprocessing/data/preserve50/cleans.csv\")\n",
    "\n",
    "def preproc_data(dataset, train_sample: float, pca_dim=31):\n",
    "\n",
    "    # Label encode\n",
    "    le = LabelEncoder()\n",
    "    dataset['label'] = le.fit_transform(dataset['label'])\n",
    "\n",
    "    # Train test split\n",
    "    x_train, x_test, y_train, y_test = train_test_split(dataset.iloc[:,:-1],\n",
    "                                                        dataset['label'],\n",
    "                                                        test_size=1-train_sample,\n",
    "                                                        random_state=0)\n",
    "    # Standard scaling\n",
    "    ss = StandardScaler().fit(x_train)\n",
    "\n",
    "    x_train = ss.transform(x_train)\n",
    "    x_test = ss.transform(x_test)\n",
    "\n",
    "    # PCA\n",
    "    pca = PCA(n_components=31).fit(x_train)\n",
    "\n",
    "    x_train = pca.transform(x_train)\n",
    "    x_test = pca.transform(x_test)\n",
    "\n",
    "    # Normalization\n",
    "    norm = Normalizer().fit(x_train)\n",
    "\n",
    "    x_train = norm.transform(x_train)\n",
    "    x_test = norm.transform(x_test)\n",
    "\n",
    "    # Reshaping \n",
    "    y_train = y_train.values.reshape(-1,1)\n",
    "    y_test = y_test.values.reshape(-1,1)\n",
    "    return x_train, x_test, y_train, y_test, pca, ss, norm"
   ],
   "outputs": [],
   "execution_count": 80
  },
  {
   "cell_type": "markdown",
   "metadata": {},
   "source": [
    "### Model Definition"
   ]
  },
  {
   "cell_type": "code",
   "metadata": {
    "ExecuteTime": {
     "end_time": "2024-09-12T06:42:02.345446Z",
     "start_time": "2024-09-12T06:42:02.303573Z"
    }
   },
   "source": [
    "class RandomWeightedAverage(tf.keras.layers.Layer):\n",
    "    \"\"\"Provides a (random) weighted average between real and generated image samples\"\"\"\n",
    "    \n",
    "    def __init__(self, batch_size):\n",
    "        super().__init__()\n",
    "        self.batch_size = batch_size\n",
    "    \n",
    "    def call(self, inputs, **kwargs):\n",
    "        alpha = tf.random.uniform((self.batch_size, 1))\n",
    "        return (alpha * inputs[0]) + ((1 - alpha) * inputs[1])\n",
    "    \n",
    "    def compute_output_shape(self, input_shape):\n",
    "        return input_shape[0]\n",
    "\n",
    "    \n",
    "class ECGAN():\n",
    "    def __init__(self, \n",
    "                 x_train, \n",
    "                 y_train, \n",
    "                 num_classes: int, \n",
    "                 latent_dim: int, \n",
    "                 batch_size: int,\n",
    "                 n_critic: int,\n",
    "                 conf_thresh: float,\n",
    "                 adv_weight: float):\n",
    "        \"\"\"Implement EC-GAN with an WCGAN-GP and MLP.        \n",
    "        \n",
    "        Attributes\n",
    "        ---------\n",
    "        x_train : numpy.ndarray\n",
    "            Real data without labels used for training.\n",
    "            (Created with sklearn.model_selection.train_test_split\n",
    "        \n",
    "        y_train : numpy.ndarray\n",
    "            Real data labels.\n",
    "            \n",
    "        num_classes : int\n",
    "            Number of data classes. Number of unique elements in y_train.\n",
    "            \n",
    "        data_dim : int\n",
    "            Data dimension. Number of columns in x_train.\n",
    "            \n",
    "        latent_dim : int\n",
    "            Dimension of random noise vector (z), used for training\n",
    "            the generator.\n",
    "            \n",
    "        batch_size : int\n",
    "            Size of training batch in each epoch.\n",
    "        \n",
    "        n_critic : int\n",
    "            Number of times the critic (discriminator) will be trained\n",
    "            in each epoch.\n",
    "            \n",
    "        conf_thresh : float\n",
    "            Confidence threshold. EC-GAN parameter which decides how good\n",
    "            the generated sample needs to be, for it to be fed to the \n",
    "            classifier.\n",
    "        \n",
    "        adv_weight : float\n",
    "            Adverserial weight. EC-GAN parameter which represents the \n",
    "            importance fake data has on classifier training.\n",
    "            Value has been taken from the original paper.\n",
    "        \n",
    "        \"\"\"\n",
    "        \n",
    "        self.x_train = x_train.copy()\n",
    "        self.y_train = y_train.copy()\n",
    "        \n",
    "        # Store labels as one-hot vectors.\n",
    "        self.y_train_onehot = to_categorical(y_train)\n",
    "        \n",
    "        self.num_classes = num_classes\n",
    "        self.data_dim = x_train.shape[1]\n",
    "        \n",
    "        self.latent_dim = latent_dim\n",
    "        self.batch_size = batch_size\n",
    "        \n",
    "        # WCGAN-GP parameters. \n",
    "        self.n_critic = n_critic\n",
    "        \n",
    "        # EC-GAN parameters.\n",
    "        self.conf_thresh = conf_thresh\n",
    "        self.adv_weight = adv_weight\n",
    "        \n",
    "        # Log training progress.\n",
    "        self.losslog = []\n",
    "        self.class_acc_log = []\n",
    "        self.class_loss_log = []\n",
    "\n",
    "        # Adam optimizer for WCGAN-GP, suggested by original paper.\n",
    "        optimizer = Adam(learning_rate=0.0005, beta_1=0.05, beta_2=0.9)\n",
    "\n",
    "        # Categorical crossentropy loss function for the classifier.\n",
    "        self.cce_loss = tf.keras.losses.CategoricalCrossentropy()\n",
    "\n",
    "        # Build the generator, critic and classifier\n",
    "        self.generator = self.build_generator()\n",
    "        self.critic = self.build_critic()\n",
    "        self.classifier = self.build_classifier()\n",
    "\n",
    "        \n",
    "        #-------------------------------\n",
    "        # Construct Computational Graph\n",
    "        #       for the Critic\n",
    "        #-------------------------------\n",
    "\n",
    "        # Freeze generator's layers while training critic.\n",
    "        self.generator.trainable = False\n",
    "\n",
    "        # Data input (real sample).\n",
    "        real_data = Input(shape=self.data_dim, name=\"Real_data\")\n",
    "        # Noise input (z).\n",
    "        noise = Input(shape=(self.latent_dim,), name=\"Noise\")\n",
    "        # Label input.\n",
    "        label = Input(shape=(1,), name=\"Label\")\n",
    "        \n",
    "        # Generate data based of noise (fake sample)\n",
    "        fake_data = self.generator([noise, label])\n",
    "        \n",
    "        # Critic (discriminator) determines validity of the real and fake images.\n",
    "        fake = self.critic([fake_data, label])\n",
    "        valid = self.critic([real_data, label])\n",
    "        \n",
    "        # Construct weighted average between real and fake images.\n",
    "        interpolated_data = RandomWeightedAverage(self.batch_size)([real_data, fake_data])\n",
    "        \n",
    "        # Determine validity of weighted sample.\n",
    "        validity_interpolated = self.critic([interpolated_data, label])\n",
    "        \n",
    "        \n",
    "        # Use Python partial to provide loss function with additional\n",
    "        # 'averaged_samples' argument.\n",
    "        partial_gp_loss = partial(self.gradient_penalty_loss,\n",
    "                          averaged_samples=interpolated_data)\n",
    "        # Keras requires function names.\n",
    "        partial_gp_loss.__name__ = 'gradient_penalty' \n",
    "        \n",
    "        self.critic_model = Model(\n",
    "            inputs=[real_data, label, noise],\n",
    "            outputs=[valid, fake, validity_interpolated]\n",
    "        )\n",
    "        \n",
    "        self.critic_model.compile(loss=[self.wasserstein_loss,\n",
    "                                        self.wasserstein_loss,\n",
    "                                        partial_gp_loss],\n",
    "                                  optimizer=optimizer,\n",
    "                                  loss_weights=[1, 1, 10])\n",
    " \n",
    "        #-------------------------------\n",
    "        # Construct Computational Graph\n",
    "        #         for Generator\n",
    "        #-------------------------------\n",
    "\n",
    "        # For the generator we freeze other's layers.\n",
    "        self.critic.trainable = False\n",
    "        self.generator.trainable = True\n",
    "\n",
    "        # Sampled noise for input to generator.\n",
    "        noise = Input(shape=(self.latent_dim,), name=\"Noise\")\n",
    "        \n",
    "        # Add label to input.\n",
    "        label = Input(shape=(1,), name=\"Label\")\n",
    "        \n",
    "        # Generate data based of noise.\n",
    "        fake_data = self.generator([noise, label])\n",
    "        \n",
    "        # Discriminator determines validity.\n",
    "        valid = self.critic([fake_data, label])\n",
    "\n",
    "        # Defines generator model.\n",
    "        self.generator_model = Model([noise, label], valid)\n",
    "        \n",
    "        self.generator_model.compile(loss=self.wasserstein_loss, \n",
    "                                     optimizer=optimizer)\n",
    "\n",
    "        \n",
    "        \n",
    "        #-------------------------------\n",
    "        # Construct Computational Graph\n",
    "        #   for the Classifier (real)\n",
    "        #-------------------------------\n",
    "        \n",
    "        # Real data classifier training\n",
    "        \n",
    "        real_data = Input(shape=self.data_dim, name=\"Real_data\")\n",
    "        \n",
    "        real_predictions = self.classifier(real_data)\n",
    "        \n",
    "        self.real_classifier_model = Model(real_data, real_predictions)\n",
    "        \n",
    "        self.real_classifier_model.compile(loss=\"categorical_crossentropy\",\n",
    "                                           optimizer=\"adamax\",\n",
    "                                           metrics=[\"accuracy\"])\n",
    "        \n",
    "        #-------------------------------\n",
    "        # Construct Computational Graph\n",
    "        #   for the Classifier (fake)\n",
    "        #-------------------------------\n",
    "        \n",
    "        # Fake data classifier training\n",
    "        \n",
    "        noise = Input(shape=(self.latent_dim,), name=\"Noise\")\n",
    "        fake_labels = Input(shape=(1,), name=\"Label\")\n",
    "        \n",
    "        real_data = Input(shape=self.data_dim, name=\"Real_data\")\n",
    "        \n",
    "        fake_data = self.generator([noise, fake_labels])\n",
    "        \n",
    "        fake_predictions = self.classifier(fake_data)\n",
    "        \n",
    "        self.fake_classifier_model = Model([noise, fake_labels], fake_predictions)\n",
    "        \n",
    "        self.fake_classifier_model.compile(loss=self.ecgan_loss, \n",
    "                                           optimizer=\"adamax\",\n",
    "                                           metrics=[\"accuracy\"])\n",
    "\n",
    "        \n",
    "        \n",
    "    def ecgan_loss(self, y_true, y_pred):\n",
    "        \"\"\"Calculate loss for fake data predictions.\"\"\"\n",
    "        \n",
    "        max_values = tf.math.reduce_max(y_pred, axis=1)\n",
    "        \n",
    "        max_index = tf.where(tf.math.greater(max_values, self.conf_thresh))\n",
    "        \n",
    "        loss = self.adv_weight * self.cce_loss(y_true[max_index], y_pred[max_index])\n",
    "        \n",
    "        return loss\n",
    "    \n",
    "\n",
    "    def gradient_penalty_loss(self, y_true, y_pred, averaged_samples):\n",
    "        \"\"\"\n",
    "        Computes gradient penalty based on prediction and weighted real / fake samples\n",
    "        \"\"\"\n",
    "        gradients = K.gradients(y_pred, averaged_samples)[0]\n",
    "        # compute the euclidean norm by squaring ...\n",
    "        gradients_sqr = K.square(gradients)\n",
    "        #   ... summing over the rows ...\n",
    "        gradients_sqr_sum = K.sum(gradients_sqr,\n",
    "                                  axis=np.arange(1, len(gradients_sqr.shape)))\n",
    "        #   ... and sqrt\n",
    "        gradient_l2_norm = K.sqrt(gradients_sqr_sum)\n",
    "        # compute lambda * (1 - ||grad||)^2 still for each single sample\n",
    "        gradient_penalty = K.square(1 - gradient_l2_norm)\n",
    "        # return the mean as loss over all the batch samples\n",
    "        return K.mean(gradient_penalty)\n",
    "\n",
    "\n",
    "    def wasserstein_loss(self, y_true, y_pred):\n",
    "        return K.mean(y_true * y_pred)\n",
    "\n",
    "    def build_generator(self):\n",
    "\n",
    "        model = Sequential(name=\"Generator\")\n",
    "        \n",
    "        # First hidden layer.\n",
    "        model.add(Dense(256, input_dim=self.latent_dim))\n",
    "        model.add(LeakyReLU(alpha=0.2))\n",
    "        model.add(Dropout(0.3))\n",
    "        \n",
    "        # Second hidden layer.\n",
    "        model.add(Dense(512))\n",
    "        model.add(LeakyReLU(alpha=0.2))\n",
    "        model.add(Dropout(0.3))\n",
    "        \n",
    "        # Third hidden layer.\n",
    "        model.add(Dense(1024))\n",
    "        model.add(LeakyReLU(alpha=0.2))\n",
    "        model.add(Dropout(0.3))\n",
    "        \n",
    "        # Output layer.\n",
    "        model.add(Dense(self.data_dim, activation=\"tanh\"))\n",
    "        \n",
    "        model.summary()\n",
    "        \n",
    "        # Noise and label input layers.\n",
    "        noise = Input(shape=(self.latent_dim,), name=\"Noise\")\n",
    "        label = Input(shape=(1,), dtype=\"int32\", name=\"Label\")\n",
    "        \n",
    "        # Embed labels into onehot encoded vectors.\n",
    "        label_embedding = Flatten(name=\"Flatten\")(Embedding(self.num_classes, self.latent_dim, name=\"Embedding\")(label))\n",
    "        \n",
    "        # Multiply noise and embedded labels to be used as model input.\n",
    "        model_input = multiply([noise, label_embedding], name=\"Multiply\")\n",
    "        \n",
    "        generated_data = model(model_input)\n",
    "\n",
    "        return Model(inputs=[noise, label], \n",
    "                     outputs=generated_data, \n",
    "                     name=\"Generator\")\n",
    "\n",
    "    def build_critic(self):\n",
    "\n",
    "        model = Sequential(name=\"Critic\")\n",
    "\n",
    "        # First hidden layer.\n",
    "        model.add(Dense(1024, input_dim=self.data_dim))\n",
    "        model.add(LeakyReLU(alpha=0.2))\n",
    "        \n",
    "        # Second hidden layer.        \n",
    "        model.add(Dense(512))\n",
    "        model.add(LeakyReLU(alpha=0.2))\n",
    "        \n",
    "        # Third hidden layer.\n",
    "        model.add(Dense(256))\n",
    "        model.add(LeakyReLU(alpha=0.2))\n",
    "\n",
    "        # Output layer with linear activation.\n",
    "        model.add(Dense(1))\n",
    "\n",
    "        model.summary()\n",
    "        \n",
    "        # Artificial data input.\n",
    "        generated_sample = Input(shape=self.data_dim, name=\"Generated_data\")\n",
    "        # Label input.\n",
    "        label = Input(shape=(1,), dtype=\"int32\", name=\"Label\") \n",
    "        \n",
    "        # Embedd label as onehot vector.\n",
    "        label_embedding = Flatten(name=\"Flatten\")(Embedding(self.num_classes, self.data_dim, name=\"Embedding\")(label))\n",
    "        \n",
    "        # Multiply fake data sample with label embedding to get critic input.\n",
    "        model_input = multiply([generated_sample, label_embedding], name=\"Multiply\")\n",
    "        \n",
    "        validity = model(model_input)\n",
    "\n",
    "        return Model(inputs=[generated_sample, label], \n",
    "                     outputs=validity, \n",
    "                     name=\"Critic\")\n",
    "    \n",
    "    def build_classifier(self):\n",
    "        \n",
    "        model = Sequential(name=\"Classifier\")\n",
    "        \n",
    "        # First hidden layer.\n",
    "        model.add(Dense(128, input_dim=self.data_dim))\n",
    "        model.add(ReLU())\n",
    "        model.add(Dropout(0.3))\n",
    "        \n",
    "        # Second hidden layer.\n",
    "        model.add(Dense(256))\n",
    "        model.add(ReLU())\n",
    "        model.add(Dropout(0.3))\n",
    "        \n",
    "        model.add(Dense(128))\n",
    "        model.add(ReLU())\n",
    "        model.add(Dropout(0.3))\n",
    "        \n",
    "        # Output layer.\n",
    "        model.add(Dense(self.num_classes))\n",
    "        model.add(Softmax())\n",
    "        \n",
    "        model.summary()\n",
    "        \n",
    "        # Data input.\n",
    "        data = Input(shape=self.data_dim, name=\"Data\")\n",
    "\n",
    "        # CLassifier outout is class predictions vector.\n",
    "        predictions = model(data)\n",
    "        \n",
    "        return Model(inputs=data,\n",
    "                     outputs=predictions,\n",
    "                     name=\"Classifier\")\n",
    "        \n",
    "        \n",
    "    def train(self, epochs):\n",
    "        \n",
    "        self.epochs = epochs\n",
    "\n",
    "        # Adversarial ground truths.\n",
    "        valid = -(np.ones((self.batch_size, 1)))\n",
    "        fake =  np.ones((self.batch_size, 1))\n",
    "        dummy = np.zeros((self.batch_size, 1))\n",
    "\n",
    "        # Number of batches.\n",
    "        self.n_batches = math.floor(self.x_train.shape[0] / self.batch_size)\n",
    "\n",
    "        overhead = self.x_train.shape[0] % self.batch_size\n",
    "         \n",
    "        for epoch in range(epochs):\n",
    "            \n",
    "            # Reset training set.\n",
    "            self.x_train = x_train.copy()\n",
    "            self.y_train = y_train.copy()\n",
    "\n",
    "            # Select random overhead rows that do not fit into batches.\n",
    "            rand_overhead_idx = np.random.choice(range(self.x_train.shape[0]), overhead, replace=False)\n",
    "\n",
    "            # Remove random overhead rows.\n",
    "            self.x_train = np.delete(self.x_train, rand_overhead_idx, axis=0)\n",
    "            self.y_train = np.delete(self.y_train, rand_overhead_idx, axis=0)\n",
    "\n",
    "\n",
    "            # Split training data into batches.\n",
    "            x_batches = np.split(self.x_train, self.n_batches)\n",
    "            y_batches = np.split(self.y_train, self.n_batches)\n",
    "            \n",
    "            for x_batch, y_batch, i in zip(x_batches, y_batches, range(self.n_batches)):   \n",
    "                \n",
    "                if epoch < 5:\n",
    "                    \n",
    "                    for _ in range(self.n_critic):\n",
    "\n",
    "                        # ---------------------\n",
    "                        #  Train Critic\n",
    "                        # ---------------------\n",
    "\n",
    "                        # Generate random noise.\n",
    "                        noise = np.random.normal(0, 1, (self.batch_size, self.latent_dim))\n",
    "\n",
    "                        # Train the critic.\n",
    "                        d_loss = self.critic_model.train_on_batch(\n",
    "                            [x_batch, y_batch, noise],                                      \n",
    "                            [valid, fake, dummy])\n",
    "\n",
    "\n",
    "                    # ---------------------\n",
    "                    #  Train Generator\n",
    "                    # ---------------------\n",
    "\n",
    "                    # Generate sample of artificial labels.\n",
    "                    generated_labels = np.random.randint(1, self.num_classes, self.batch_size).reshape(-1, 1)\n",
    "\n",
    "                    # Train generator.\n",
    "                    g_loss = self.generator_model.train_on_batch([noise, generated_labels], valid)\n",
    "\n",
    "\n",
    "                    # ---------------------\n",
    "                    #  Train Classifier\n",
    "                    # ---------------------\n",
    "\n",
    "                    # One-hot encode real labels.\n",
    "                    y_batch = to_categorical(y_batch, self.num_classes)\n",
    "\n",
    "                    # One-hot encode generated labels.\n",
    "                    generated_labels_onehot = to_categorical(generated_labels, self.num_classes)\n",
    "\n",
    "                    real_loss = self.real_classifier_model.train_on_batch(x_batch, y_batch)\n",
    "\n",
    "                    fake_loss = self.fake_classifier_model.train_on_batch([noise, generated_labels], generated_labels_onehot)\n",
    "\n",
    "                    # Classifier loss as presented in EC-GAN paper.\n",
    "                    c_loss = (real_loss[0] + fake_loss[0]) / (1 + self.adv_weight)\n",
    "\n",
    "                    avg_acc = np.mean([real_loss[1], fake_loss[1]])\n",
    "                \n",
    "                else:\n",
    "                    \n",
    "                    # ---------------------\n",
    "                    #  Train Classifier\n",
    "                    # ---------------------\n",
    "                    \n",
    "                    # Generate random noise.\n",
    "                    noise = np.random.normal(0, 1, (self.batch_size, self.latent_dim))\n",
    "\n",
    "                    # Generate sample of artificial labels.\n",
    "                    generated_labels = np.random.randint(1, self.num_classes, self.batch_size).reshape(-1, 1)\n",
    "\n",
    "                    # One-hot encode real labels.\n",
    "                    y_batch = to_categorical(y_batch, self.num_classes)\n",
    "\n",
    "                    # One-hot encode generated labels.\n",
    "                    generated_labels_onehot = to_categorical(generated_labels, self.num_classes)\n",
    "\n",
    "                    real_loss = self.real_classifier_model.train_on_batch(x_batch, y_batch)\n",
    "\n",
    "                    fake_loss = self.fake_classifier_model.train_on_batch([noise, generated_labels], generated_labels_onehot)\n",
    "\n",
    "                    # Classifier loss as presented in EC-GAN paper.\n",
    "                    c_loss = (real_loss[0] + fake_loss[0]) / (1 + self.adv_weight)\n",
    "\n",
    "                    avg_acc = np.mean([real_loss[1], fake_loss[1]])\n",
    "\n",
    "\n",
    "                # ---------------------\n",
    "                #  Logging\n",
    "                # ---------------------\n",
    "\n",
    "                self.losslog.append([d_loss[0], g_loss, c_loss])\n",
    "                self.class_loss_log.append([real_loss[0], fake_loss[0], c_loss])\n",
    "                self.class_acc_log.append([real_loss[1], fake_loss[1], avg_acc])\n",
    "\n",
    "                # Plot progress.\n",
    "                # Plot progress.\n",
    "                DLOSS = \"%.4f\" % d_loss[0]\n",
    "                GLOSS = \"%.4f\" % g_loss\n",
    "                CLOSS = \"%.4f\" % c_loss\n",
    "                RLOSS = \"%.4f\" % real_loss[0]\n",
    "                FLOSS = \"%.4f\" % fake_loss[0]\n",
    "                CACC  = \"%.4f\" % real_loss[1]\n",
    "                \n",
    "                if i % 100 == 0:\n",
    "                    print (f\"{epoch} - {i}/{self.n_batches} \\t [D loss: {DLOSS}] [G loss: {GLOSS}] [R loss: {RLOSS} | F loss: {FLOSS} | C loss: {CLOSS} - C acc: {CACC}]\")\n"
   ],
   "outputs": [],
   "execution_count": 81
  },
  {
   "cell_type": "code",
   "metadata": {
    "scrolled": true,
    "ExecuteTime": {
     "end_time": "2024-09-12T08:48:36.471782Z",
     "start_time": "2024-09-12T08:40:44.860989Z"
    }
   },
   "source": [
    "gan = ECGAN(x_train,\n",
    "            y_train,\n",
    "            num_classes=15,\n",
    "            latent_dim=32,\n",
    "            batch_size=128,\n",
    "            n_critic=5,\n",
    "            conf_thresh=.2,\n",
    "            adv_weight=.1\n",
    "            )\n",
    "\n",
    "gan.train(epochs=10)"
   ],
   "outputs": [
    {
     "name": "stdout",
     "output_type": "stream",
     "text": [
      "Model: \"Generator\"\n",
      "_________________________________________________________________\n",
      " Layer (type)                Output Shape              Param #   \n",
      "=================================================================\n",
      " dense_172 (Dense)           (None, 256)               8448      \n",
      "                                                                 \n",
      " leaky_re_lu_87 (LeakyReLU)  (None, 256)               0         \n",
      "                                                                 \n",
      " dropout_87 (Dropout)        (None, 256)               0         \n",
      "                                                                 \n",
      " dense_173 (Dense)           (None, 512)               131584    \n",
      "                                                                 \n",
      " leaky_re_lu_88 (LeakyReLU)  (None, 512)               0         \n",
      "                                                                 \n",
      " dropout_88 (Dropout)        (None, 512)               0         \n",
      "                                                                 \n",
      " dense_174 (Dense)           (None, 1024)              525312    \n",
      "                                                                 \n",
      " leaky_re_lu_89 (LeakyReLU)  (None, 1024)              0         \n",
      "                                                                 \n",
      " dropout_89 (Dropout)        (None, 1024)              0         \n",
      "                                                                 \n",
      " dense_175 (Dense)           (None, 31)                31775     \n",
      "                                                                 \n",
      "=================================================================\n",
      "Total params: 697,119\n",
      "Trainable params: 697,119\n",
      "Non-trainable params: 0\n",
      "_________________________________________________________________\n",
      "Model: \"Critic\"\n",
      "_________________________________________________________________\n",
      " Layer (type)                Output Shape              Param #   \n",
      "=================================================================\n",
      " dense_176 (Dense)           (None, 1024)              32768     \n",
      "                                                                 \n",
      " leaky_re_lu_90 (LeakyReLU)  (None, 1024)              0         \n",
      "                                                                 \n",
      " dense_177 (Dense)           (None, 512)               524800    \n",
      "                                                                 \n",
      " leaky_re_lu_91 (LeakyReLU)  (None, 512)               0         \n",
      "                                                                 \n",
      " dense_178 (Dense)           (None, 256)               131328    \n",
      "                                                                 \n",
      " leaky_re_lu_92 (LeakyReLU)  (None, 256)               0         \n",
      "                                                                 \n",
      " dense_179 (Dense)           (None, 1)                 257       \n",
      "                                                                 \n",
      "=================================================================\n",
      "Total params: 689,153\n",
      "Trainable params: 689,153\n",
      "Non-trainable params: 0\n",
      "_________________________________________________________________\n",
      "Model: \"Classifier\"\n",
      "_________________________________________________________________\n",
      " Layer (type)                Output Shape              Param #   \n",
      "=================================================================\n",
      " dense_180 (Dense)           (None, 128)               4096      \n",
      "                                                                 \n",
      " re_lu_42 (ReLU)             (None, 128)               0         \n",
      "                                                                 \n",
      " dropout_90 (Dropout)        (None, 128)               0         \n",
      "                                                                 \n",
      " dense_181 (Dense)           (None, 256)               33024     \n",
      "                                                                 \n",
      " re_lu_43 (ReLU)             (None, 256)               0         \n",
      "                                                                 \n",
      " dropout_91 (Dropout)        (None, 256)               0         \n",
      "                                                                 \n",
      " dense_182 (Dense)           (None, 128)               32896     \n",
      "                                                                 \n",
      " re_lu_44 (ReLU)             (None, 128)               0         \n",
      "                                                                 \n",
      " dropout_92 (Dropout)        (None, 128)               0         \n",
      "                                                                 \n",
      " dense_183 (Dense)           (None, 15)                1935      \n",
      "                                                                 \n",
      " softmax_14 (Softmax)        (None, 15)                0         \n",
      "                                                                 \n",
      "=================================================================\n",
      "Total params: 71,951\n",
      "Trainable params: 71,951\n",
      "Non-trainable params: 0\n",
      "_________________________________________________________________\n",
      "0 - 0/1679 \t [D loss: 8.5157] [G loss: 0.0333] [R loss: 2.6885 | F loss: 0.0000 | C loss: 2.4441 - C acc: 0.0703]\n",
      "0 - 100/1679 \t [D loss: -1.1176] [G loss: -0.8455] [R loss: 0.4453 | F loss: 0.2732 | C loss: 0.6532 - C acc: 0.8828]\n",
      "0 - 200/1679 \t [D loss: -1.1188] [G loss: -0.9787] [R loss: 0.5249 | F loss: 0.2233 | C loss: 0.6802 - C acc: 0.8672]\n",
      "0 - 300/1679 \t [D loss: -1.2682] [G loss: -0.7569] [R loss: 0.4194 | F loss: 0.2357 | C loss: 0.5955 - C acc: 0.8984]\n",
      "0 - 400/1679 \t [D loss: -1.6178] [G loss: -0.4367] [R loss: 0.4674 | F loss: 0.2599 | C loss: 0.6612 - C acc: 0.8750]\n",
      "0 - 500/1679 \t [D loss: -1.9230] [G loss: -0.7567] [R loss: 0.3164 | F loss: 0.2300 | C loss: 0.4967 - C acc: 0.9141]\n",
      "0 - 600/1679 \t [D loss: -1.8737] [G loss: -0.9702] [R loss: 0.2993 | F loss: 0.2167 | C loss: 0.4691 - C acc: 0.9453]\n",
      "0 - 700/1679 \t [D loss: -1.9661] [G loss: -0.9933] [R loss: 0.3432 | F loss: 0.2498 | C loss: 0.5391 - C acc: 0.9219]\n",
      "0 - 800/1679 \t [D loss: -1.6077] [G loss: -1.0312] [R loss: 0.2768 | F loss: 0.2427 | C loss: 0.4723 - C acc: 0.9375]\n",
      "0 - 900/1679 \t [D loss: -2.0372] [G loss: -0.8983] [R loss: 0.4760 | F loss: 0.2081 | C loss: 0.6219 - C acc: 0.8438]\n",
      "0 - 1000/1679 \t [D loss: -1.4964] [G loss: -0.4779] [R loss: 0.2756 | F loss: 0.2616 | C loss: 0.4884 - C acc: 0.9453]\n",
      "0 - 1100/1679 \t [D loss: -1.4785] [G loss: -0.9764] [R loss: 0.2942 | F loss: 0.1956 | C loss: 0.4453 - C acc: 0.9297]\n",
      "0 - 1200/1679 \t [D loss: -2.1437] [G loss: -0.3888] [R loss: 0.1708 | F loss: 0.1786 | C loss: 0.3176 - C acc: 0.9844]\n",
      "0 - 1300/1679 \t [D loss: -1.5954] [G loss: -0.8317] [R loss: 0.3816 | F loss: 0.2113 | C loss: 0.5390 - C acc: 0.9141]\n",
      "0 - 1400/1679 \t [D loss: -1.9791] [G loss: -0.8658] [R loss: 0.2742 | F loss: 0.2127 | C loss: 0.4426 - C acc: 0.9375]\n",
      "0 - 1500/1679 \t [D loss: -1.8514] [G loss: -1.0975] [R loss: 0.2754 | F loss: 0.1947 | C loss: 0.4274 - C acc: 0.9219]\n",
      "0 - 1600/1679 \t [D loss: -1.8989] [G loss: -0.7765] [R loss: 0.3117 | F loss: 0.1978 | C loss: 0.4632 - C acc: 0.9219]\n",
      "1 - 0/1679 \t [D loss: -2.2352] [G loss: -0.7407] [R loss: 0.3044 | F loss: 0.1640 | C loss: 0.4258 - C acc: 0.8984]\n",
      "1 - 100/1679 \t [D loss: -1.8157] [G loss: -0.7948] [R loss: 0.1595 | F loss: 0.1863 | C loss: 0.3144 - C acc: 0.9531]\n",
      "1 - 200/1679 \t [D loss: -1.7386] [G loss: -0.9365] [R loss: 0.4052 | F loss: 0.2238 | C loss: 0.5718 - C acc: 0.8906]\n",
      "1 - 300/1679 \t [D loss: -1.5065] [G loss: -0.7013] [R loss: 0.2542 | F loss: 0.1864 | C loss: 0.4005 - C acc: 0.9453]\n",
      "1 - 400/1679 \t [D loss: -1.8608] [G loss: -0.8210] [R loss: 0.3357 | F loss: 0.2038 | C loss: 0.4904 - C acc: 0.8750]\n",
      "1 - 500/1679 \t [D loss: -1.5458] [G loss: -0.4902] [R loss: 0.2388 | F loss: 0.2117 | C loss: 0.4096 - C acc: 0.9375]\n",
      "1 - 600/1679 \t [D loss: -1.4934] [G loss: -0.6844] [R loss: 0.2765 | F loss: 0.2293 | C loss: 0.4599 - C acc: 0.8984]\n",
      "1 - 700/1679 \t [D loss: -1.3763] [G loss: -0.4630] [R loss: 0.2411 | F loss: 0.1902 | C loss: 0.3922 - C acc: 0.9297]\n",
      "1 - 800/1679 \t [D loss: -1.2316] [G loss: -0.2808] [R loss: 0.2458 | F loss: 0.2267 | C loss: 0.4296 - C acc: 0.9297]\n",
      "1 - 900/1679 \t [D loss: -1.0955] [G loss: -0.0763] [R loss: 0.3310 | F loss: 0.1631 | C loss: 0.4491 - C acc: 0.8984]\n",
      "1 - 1000/1679 \t [D loss: -1.2398] [G loss: -0.3885] [R loss: 0.1756 | F loss: 0.1366 | C loss: 0.2838 - C acc: 0.9844]\n",
      "1 - 1100/1679 \t [D loss: -0.7931] [G loss: 0.4150] [R loss: 0.2810 | F loss: 0.1544 | C loss: 0.3958 - C acc: 0.9219]\n",
      "1 - 1200/1679 \t [D loss: -0.7641] [G loss: 0.4674] [R loss: 0.1235 | F loss: 0.1485 | C loss: 0.2472 - C acc: 0.9922]\n",
      "1 - 1300/1679 \t [D loss: -0.8006] [G loss: 0.3314] [R loss: 0.3044 | F loss: 0.1480 | C loss: 0.4112 - C acc: 0.8984]\n",
      "1 - 1400/1679 \t [D loss: -0.9022] [G loss: 0.1772] [R loss: 0.2852 | F loss: 0.1546 | C loss: 0.3998 - C acc: 0.9219]\n",
      "1 - 1500/1679 \t [D loss: -0.6684] [G loss: 0.2721] [R loss: 0.2904 | F loss: 0.1319 | C loss: 0.3839 - C acc: 0.9141]\n",
      "1 - 1600/1679 \t [D loss: -0.7923] [G loss: 0.3368] [R loss: 0.3650 | F loss: 0.1825 | C loss: 0.4977 - C acc: 0.8828]\n",
      "2 - 0/1679 \t [D loss: -0.8530] [G loss: 0.3008] [R loss: 0.3397 | F loss: 0.1501 | C loss: 0.4453 - C acc: 0.8906]\n",
      "2 - 100/1679 \t [D loss: -1.0126] [G loss: 0.2750] [R loss: 0.1321 | F loss: 0.1545 | C loss: 0.2605 - C acc: 0.9609]\n",
      "2 - 200/1679 \t [D loss: -0.8955] [G loss: 0.2508] [R loss: 0.2878 | F loss: 0.1681 | C loss: 0.4144 - C acc: 0.9297]\n",
      "2 - 300/1679 \t [D loss: -0.7605] [G loss: 0.1613] [R loss: 0.3092 | F loss: 0.1262 | C loss: 0.3959 - C acc: 0.9062]\n",
      "2 - 400/1679 \t [D loss: -0.9420] [G loss: 0.0850] [R loss: 0.3670 | F loss: 0.1609 | C loss: 0.4799 - C acc: 0.8828]\n",
      "2 - 500/1679 \t [D loss: -0.8833] [G loss: 0.1558] [R loss: 0.2400 | F loss: 0.2197 | C loss: 0.4180 - C acc: 0.9297]\n",
      "2 - 600/1679 \t [D loss: -0.7070] [G loss: 0.5597] [R loss: 0.2918 | F loss: 0.1955 | C loss: 0.4430 - C acc: 0.9141]\n",
      "2 - 700/1679 \t [D loss: -0.7415] [G loss: 0.3391] [R loss: 0.2714 | F loss: 0.1523 | C loss: 0.3852 - C acc: 0.9062]\n",
      "2 - 800/1679 \t [D loss: -0.8013] [G loss: 0.1928] [R loss: 0.2628 | F loss: 0.1358 | C loss: 0.3624 - C acc: 0.9219]\n",
      "2 - 900/1679 \t [D loss: -0.7435] [G loss: -0.1216] [R loss: 0.3409 | F loss: 0.1055 | C loss: 0.4058 - C acc: 0.8750]\n",
      "2 - 1000/1679 \t [D loss: -0.7103] [G loss: 0.1204] [R loss: 0.2471 | F loss: 0.1046 | C loss: 0.3197 - C acc: 0.9297]\n",
      "2 - 1100/1679 \t [D loss: -0.7284] [G loss: 0.0047] [R loss: 0.2806 | F loss: 0.1017 | C loss: 0.3476 - C acc: 0.8984]\n",
      "2 - 1200/1679 \t [D loss: -0.7835] [G loss: 0.0402] [R loss: 0.1921 | F loss: 0.0939 | C loss: 0.2600 - C acc: 0.9375]\n",
      "2 - 1300/1679 \t [D loss: -0.6251] [G loss: -0.1241] [R loss: 0.3915 | F loss: 0.0891 | C loss: 0.4370 - C acc: 0.8906]\n",
      "2 - 1400/1679 \t [D loss: -0.7650] [G loss: 0.0915] [R loss: 0.1817 | F loss: 0.0803 | C loss: 0.2381 - C acc: 0.9453]\n",
      "2 - 1500/1679 \t [D loss: -0.6748] [G loss: -0.0224] [R loss: 0.2324 | F loss: 0.0770 | C loss: 0.2813 - C acc: 0.9141]\n",
      "2 - 1600/1679 \t [D loss: -0.7481] [G loss: 0.1924] [R loss: 0.2562 | F loss: 0.0754 | C loss: 0.3014 - C acc: 0.8984]\n",
      "3 - 0/1679 \t [D loss: -0.8246] [G loss: 0.1325] [R loss: 0.2964 | F loss: 0.0774 | C loss: 0.3398 - C acc: 0.8906]\n",
      "3 - 100/1679 \t [D loss: -0.9291] [G loss: 0.0798] [R loss: 0.1239 | F loss: 0.0741 | C loss: 0.1800 - C acc: 0.9766]\n",
      "3 - 200/1679 \t [D loss: -0.7704] [G loss: 0.1800] [R loss: 0.3587 | F loss: 0.1306 | C loss: 0.4448 - C acc: 0.8906]\n",
      "3 - 300/1679 \t [D loss: -0.7303] [G loss: 0.2452] [R loss: 0.3319 | F loss: 0.0899 | C loss: 0.3835 - C acc: 0.8906]\n",
      "3 - 400/1679 \t [D loss: -0.8228] [G loss: 0.3306] [R loss: 0.3596 | F loss: 0.0668 | C loss: 0.3876 - C acc: 0.8594]\n",
      "3 - 500/1679 \t [D loss: -0.7913] [G loss: 0.2314] [R loss: 0.2710 | F loss: 0.0790 | C loss: 0.3183 - C acc: 0.9062]\n",
      "3 - 600/1679 \t [D loss: -0.7593] [G loss: 0.3590] [R loss: 0.2254 | F loss: 0.0475 | C loss: 0.2482 - C acc: 0.9375]\n",
      "3 - 700/1679 \t [D loss: -0.7937] [G loss: 0.1931] [R loss: 0.2175 | F loss: 0.0412 | C loss: 0.2352 - C acc: 0.9375]\n",
      "3 - 800/1679 \t [D loss: -0.6660] [G loss: 0.3086] [R loss: 0.2110 | F loss: 0.0466 | C loss: 0.2342 - C acc: 0.9453]\n",
      "3 - 900/1679 \t [D loss: -0.7476] [G loss: 0.3257] [R loss: 0.2441 | F loss: 0.0526 | C loss: 0.2697 - C acc: 0.8984]\n",
      "3 - 1000/1679 \t [D loss: -0.9071] [G loss: 0.1965] [R loss: 0.2076 | F loss: 0.0510 | C loss: 0.2351 - C acc: 0.9141]\n",
      "3 - 1100/1679 \t [D loss: -0.7762] [G loss: -0.1107] [R loss: 0.3619 | F loss: 0.0340 | C loss: 0.3599 - C acc: 0.8906]\n",
      "3 - 1200/1679 \t [D loss: -0.7684] [G loss: -0.2342] [R loss: 0.1100 | F loss: 0.0318 | C loss: 0.1289 - C acc: 0.9688]\n",
      "3 - 1300/1679 \t [D loss: -0.7907] [G loss: 0.0082] [R loss: 0.3000 | F loss: 0.0396 | C loss: 0.3087 - C acc: 0.9141]\n",
      "3 - 1400/1679 \t [D loss: -0.9675] [G loss: 0.0263] [R loss: 0.2301 | F loss: 0.0462 | C loss: 0.2512 - C acc: 0.9219]\n",
      "3 - 1500/1679 \t [D loss: -0.7751] [G loss: 0.0624] [R loss: 0.3146 | F loss: 0.0306 | C loss: 0.3139 - C acc: 0.8984]\n",
      "3 - 1600/1679 \t [D loss: -0.7797] [G loss: -0.1197] [R loss: 0.2554 | F loss: 0.0258 | C loss: 0.2556 - C acc: 0.9141]\n",
      "4 - 0/1679 \t [D loss: -0.8065] [G loss: -0.0446] [R loss: 0.2006 | F loss: 0.0468 | C loss: 0.2249 - C acc: 0.9297]\n",
      "4 - 100/1679 \t [D loss: -0.9092] [G loss: -0.2162] [R loss: 0.1426 | F loss: 0.0476 | C loss: 0.1729 - C acc: 0.9609]\n",
      "4 - 200/1679 \t [D loss: -0.8425] [G loss: -0.1508] [R loss: 0.3635 | F loss: 0.0335 | C loss: 0.3609 - C acc: 0.8906]\n",
      "4 - 300/1679 \t [D loss: -0.8394] [G loss: -0.3273] [R loss: 0.2164 | F loss: 0.0436 | C loss: 0.2364 - C acc: 0.9453]\n",
      "4 - 400/1679 \t [D loss: -0.7790] [G loss: -0.3335] [R loss: 0.3168 | F loss: 0.0393 | C loss: 0.3238 - C acc: 0.8672]\n",
      "4 - 500/1679 \t [D loss: -0.8644] [G loss: -0.1677] [R loss: 0.2302 | F loss: 0.0431 | C loss: 0.2485 - C acc: 0.9062]\n",
      "4 - 600/1679 \t [D loss: -0.7979] [G loss: -0.3228] [R loss: 0.2088 | F loss: 0.0451 | C loss: 0.2308 - C acc: 0.9297]\n",
      "4 - 700/1679 \t [D loss: -0.7616] [G loss: -0.3694] [R loss: 0.2103 | F loss: 0.0328 | C loss: 0.2210 - C acc: 0.9531]\n",
      "4 - 800/1679 \t [D loss: -0.7362] [G loss: -0.3070] [R loss: 0.2479 | F loss: 0.0193 | C loss: 0.2429 - C acc: 0.9062]\n",
      "4 - 900/1679 \t [D loss: -0.8543] [G loss: -0.3612] [R loss: 0.2769 | F loss: 0.0337 | C loss: 0.2824 - C acc: 0.8906]\n",
      "4 - 1000/1679 \t [D loss: -0.9535] [G loss: -0.4750] [R loss: 0.1354 | F loss: 0.0327 | C loss: 0.1528 - C acc: 0.9609]\n",
      "4 - 1100/1679 \t [D loss: -0.7522] [G loss: -0.3972] [R loss: 0.3333 | F loss: 0.0348 | C loss: 0.3347 - C acc: 0.9141]\n",
      "4 - 1200/1679 \t [D loss: -0.8087] [G loss: -0.4769] [R loss: 0.2107 | F loss: 0.0367 | C loss: 0.2250 - C acc: 0.9297]\n",
      "4 - 1300/1679 \t [D loss: -0.8585] [G loss: -0.4733] [R loss: 0.3019 | F loss: 0.0434 | C loss: 0.3139 - C acc: 0.9141]\n",
      "4 - 1400/1679 \t [D loss: -0.9025] [G loss: -0.4864] [R loss: 0.3118 | F loss: 0.0323 | C loss: 0.3128 - C acc: 0.9297]\n",
      "4 - 1500/1679 \t [D loss: -0.7965] [G loss: -0.5949] [R loss: 0.3384 | F loss: 0.0269 | C loss: 0.3321 - C acc: 0.8906]\n",
      "4 - 1600/1679 \t [D loss: -0.8593] [G loss: -0.4573] [R loss: 0.2307 | F loss: 0.0402 | C loss: 0.2462 - C acc: 0.9219]\n",
      "5 - 0/1679 \t [D loss: -0.8695] [G loss: -0.4817] [R loss: 0.2105 | F loss: 0.0318 | C loss: 0.2202 - C acc: 0.9297]\n",
      "5 - 100/1679 \t [D loss: -0.8695] [G loss: -0.4817] [R loss: 0.1134 | F loss: 0.0237 | C loss: 0.1247 - C acc: 0.9609]\n",
      "5 - 200/1679 \t [D loss: -0.8695] [G loss: -0.4817] [R loss: 0.3130 | F loss: 0.0084 | C loss: 0.2923 - C acc: 0.8906]\n",
      "5 - 300/1679 \t [D loss: -0.8695] [G loss: -0.4817] [R loss: 0.1571 | F loss: 0.0086 | C loss: 0.1507 - C acc: 0.9453]\n",
      "5 - 400/1679 \t [D loss: -0.8695] [G loss: -0.4817] [R loss: 0.2055 | F loss: 0.0074 | C loss: 0.1935 - C acc: 0.9297]\n",
      "5 - 500/1679 \t [D loss: -0.8695] [G loss: -0.4817] [R loss: 0.1849 | F loss: 0.0056 | C loss: 0.1732 - C acc: 0.9688]\n",
      "5 - 600/1679 \t [D loss: -0.8695] [G loss: -0.4817] [R loss: 0.1520 | F loss: 0.0071 | C loss: 0.1447 - C acc: 0.9531]\n",
      "5 - 700/1679 \t [D loss: -0.8695] [G loss: -0.4817] [R loss: 0.1330 | F loss: 0.0038 | C loss: 0.1244 - C acc: 0.9375]\n",
      "5 - 800/1679 \t [D loss: -0.8695] [G loss: -0.4817] [R loss: 0.1935 | F loss: 0.0039 | C loss: 0.1794 - C acc: 0.9375]\n",
      "5 - 900/1679 \t [D loss: -0.8695] [G loss: -0.4817] [R loss: 0.1934 | F loss: 0.0011 | C loss: 0.1768 - C acc: 0.9141]\n",
      "5 - 1000/1679 \t [D loss: -0.8695] [G loss: -0.4817] [R loss: 0.1271 | F loss: 0.0095 | C loss: 0.1242 - C acc: 0.9453]\n",
      "5 - 1100/1679 \t [D loss: -0.8695] [G loss: -0.4817] [R loss: 0.1676 | F loss: 0.0019 | C loss: 0.1541 - C acc: 0.9453]\n",
      "5 - 1200/1679 \t [D loss: -0.8695] [G loss: -0.4817] [R loss: 0.0780 | F loss: 0.0012 | C loss: 0.0720 - C acc: 0.9844]\n",
      "5 - 1300/1679 \t [D loss: -0.8695] [G loss: -0.4817] [R loss: 0.2889 | F loss: 0.0049 | C loss: 0.2671 - C acc: 0.9453]\n",
      "5 - 1400/1679 \t [D loss: -0.8695] [G loss: -0.4817] [R loss: 0.1364 | F loss: 0.0025 | C loss: 0.1262 - C acc: 0.9453]\n",
      "5 - 1500/1679 \t [D loss: -0.8695] [G loss: -0.4817] [R loss: 0.1785 | F loss: 0.0007 | C loss: 0.1629 - C acc: 0.9375]\n",
      "5 - 1600/1679 \t [D loss: -0.8695] [G loss: -0.4817] [R loss: 0.1279 | F loss: 0.0028 | C loss: 0.1188 - C acc: 0.9453]\n",
      "6 - 0/1679 \t [D loss: -0.8695] [G loss: -0.4817] [R loss: 0.1505 | F loss: 0.0010 | C loss: 0.1377 - C acc: 0.9375]\n",
      "6 - 100/1679 \t [D loss: -0.8695] [G loss: -0.4817] [R loss: 0.0705 | F loss: 0.0009 | C loss: 0.0648 - C acc: 0.9844]\n",
      "6 - 200/1679 \t [D loss: -0.8695] [G loss: -0.4817] [R loss: 0.2468 | F loss: 0.0003 | C loss: 0.2246 - C acc: 0.9141]\n",
      "6 - 300/1679 \t [D loss: -0.8695] [G loss: -0.4817] [R loss: 0.1486 | F loss: 0.0002 | C loss: 0.1354 - C acc: 0.9531]\n",
      "6 - 400/1679 \t [D loss: -0.8695] [G loss: -0.4817] [R loss: 0.1605 | F loss: 0.0066 | C loss: 0.1519 - C acc: 0.9219]\n",
      "6 - 500/1679 \t [D loss: -0.8695] [G loss: -0.4817] [R loss: 0.1114 | F loss: 0.0018 | C loss: 0.1029 - C acc: 0.9609]\n",
      "6 - 600/1679 \t [D loss: -0.8695] [G loss: -0.4817] [R loss: 0.1544 | F loss: 0.0004 | C loss: 0.1407 - C acc: 0.9531]\n",
      "6 - 700/1679 \t [D loss: -0.8695] [G loss: -0.4817] [R loss: 0.0840 | F loss: 0.0004 | C loss: 0.0767 - C acc: 0.9688]\n",
      "6 - 800/1679 \t [D loss: -0.8695] [G loss: -0.4817] [R loss: 0.1318 | F loss: 0.0003 | C loss: 0.1200 - C acc: 0.9609]\n",
      "6 - 900/1679 \t [D loss: -0.8695] [G loss: -0.4817] [R loss: 0.1591 | F loss: 0.0007 | C loss: 0.1453 - C acc: 0.9141]\n",
      "6 - 1000/1679 \t [D loss: -0.8695] [G loss: -0.4817] [R loss: 0.0684 | F loss: 0.0015 | C loss: 0.0635 - C acc: 0.9688]\n",
      "6 - 1100/1679 \t [D loss: -0.8695] [G loss: -0.4817] [R loss: 0.2072 | F loss: 0.0004 | C loss: 0.1887 - C acc: 0.9531]\n",
      "6 - 1200/1679 \t [D loss: -0.8695] [G loss: -0.4817] [R loss: 0.0488 | F loss: 0.0003 | C loss: 0.0446 - C acc: 0.9922]\n",
      "6 - 1300/1679 \t [D loss: -0.8695] [G loss: -0.4817] [R loss: 0.2310 | F loss: 0.0019 | C loss: 0.2117 - C acc: 0.9531]\n",
      "6 - 1400/1679 \t [D loss: -0.8695] [G loss: -0.4817] [R loss: 0.1017 | F loss: 0.0007 | C loss: 0.0930 - C acc: 0.9609]\n",
      "6 - 1500/1679 \t [D loss: -0.8695] [G loss: -0.4817] [R loss: 0.1625 | F loss: 0.0021 | C loss: 0.1497 - C acc: 0.9453]\n",
      "6 - 1600/1679 \t [D loss: -0.8695] [G loss: -0.4817] [R loss: 0.1010 | F loss: 0.0003 | C loss: 0.0921 - C acc: 0.9531]\n",
      "7 - 0/1679 \t [D loss: -0.8695] [G loss: -0.4817] [R loss: 0.1127 | F loss: 0.0105 | C loss: 0.1121 - C acc: 0.9688]\n",
      "7 - 100/1679 \t [D loss: -0.8695] [G loss: -0.4817] [R loss: 0.0814 | F loss: 0.0007 | C loss: 0.0747 - C acc: 0.9844]\n",
      "7 - 200/1679 \t [D loss: -0.8695] [G loss: -0.4817] [R loss: 0.2809 | F loss: 0.0001 | C loss: 0.2555 - C acc: 0.9375]\n",
      "7 - 300/1679 \t [D loss: -0.8695] [G loss: -0.4817] [R loss: 0.1047 | F loss: 0.0002 | C loss: 0.0954 - C acc: 0.9688]\n",
      "7 - 400/1679 \t [D loss: -0.8695] [G loss: -0.4817] [R loss: 0.1690 | F loss: 0.0020 | C loss: 0.1554 - C acc: 0.9297]\n",
      "7 - 500/1679 \t [D loss: -0.8695] [G loss: -0.4817] [R loss: 0.1049 | F loss: 0.0008 | C loss: 0.0960 - C acc: 0.9766]\n",
      "7 - 600/1679 \t [D loss: -0.8695] [G loss: -0.4817] [R loss: 0.1137 | F loss: 0.0005 | C loss: 0.1038 - C acc: 0.9531]\n",
      "7 - 700/1679 \t [D loss: -0.8695] [G loss: -0.4817] [R loss: 0.0799 | F loss: 0.0006 | C loss: 0.0732 - C acc: 0.9688]\n",
      "7 - 800/1679 \t [D loss: -0.8695] [G loss: -0.4817] [R loss: 0.1333 | F loss: 0.0003 | C loss: 0.1215 - C acc: 0.9609]\n",
      "7 - 900/1679 \t [D loss: -0.8695] [G loss: -0.4817] [R loss: 0.1688 | F loss: 0.0092 | C loss: 0.1618 - C acc: 0.9297]\n",
      "7 - 1000/1679 \t [D loss: -0.8695] [G loss: -0.4817] [R loss: 0.0689 | F loss: 0.0003 | C loss: 0.0629 - C acc: 0.9766]\n",
      "7 - 1100/1679 \t [D loss: -0.8695] [G loss: -0.4817] [R loss: 0.1674 | F loss: 0.0028 | C loss: 0.1547 - C acc: 0.9609]\n",
      "7 - 1200/1679 \t [D loss: -0.8695] [G loss: -0.4817] [R loss: 0.0484 | F loss: 0.0012 | C loss: 0.0451 - C acc: 0.9844]\n",
      "7 - 1300/1679 \t [D loss: -0.8695] [G loss: -0.4817] [R loss: 0.2288 | F loss: 0.0004 | C loss: 0.2083 - C acc: 0.9375]\n",
      "7 - 1400/1679 \t [D loss: -0.8695] [G loss: -0.4817] [R loss: 0.0897 | F loss: 0.0001 | C loss: 0.0816 - C acc: 0.9609]\n",
      "7 - 1500/1679 \t [D loss: -0.8695] [G loss: -0.4817] [R loss: 0.1454 | F loss: 0.0007 | C loss: 0.1328 - C acc: 0.9531]\n",
      "7 - 1600/1679 \t [D loss: -0.8695] [G loss: -0.4817] [R loss: 0.0786 | F loss: 0.0002 | C loss: 0.0716 - C acc: 0.9609]\n",
      "8 - 0/1679 \t [D loss: -0.8695] [G loss: -0.4817] [R loss: 0.1135 | F loss: 0.0001 | C loss: 0.1033 - C acc: 0.9609]\n",
      "8 - 100/1679 \t [D loss: -0.8695] [G loss: -0.4817] [R loss: 0.0753 | F loss: 0.0007 | C loss: 0.0691 - C acc: 0.9922]\n",
      "8 - 200/1679 \t [D loss: -0.8695] [G loss: -0.4817] [R loss: 0.1505 | F loss: 0.0003 | C loss: 0.1371 - C acc: 0.9297]\n",
      "8 - 300/1679 \t [D loss: -0.8695] [G loss: -0.4817] [R loss: 0.1066 | F loss: 0.0013 | C loss: 0.0981 - C acc: 0.9531]\n",
      "8 - 400/1679 \t [D loss: -0.8695] [G loss: -0.4817] [R loss: 0.1525 | F loss: 0.0002 | C loss: 0.1388 - C acc: 0.9219]\n",
      "8 - 500/1679 \t [D loss: -0.8695] [G loss: -0.4817] [R loss: 0.0838 | F loss: 0.0068 | C loss: 0.0824 - C acc: 0.9844]\n",
      "8 - 600/1679 \t [D loss: -0.8695] [G loss: -0.4817] [R loss: 0.0946 | F loss: 0.0039 | C loss: 0.0895 - C acc: 0.9531]\n",
      "8 - 700/1679 \t [D loss: -0.8695] [G loss: -0.4817] [R loss: 0.0823 | F loss: 0.0002 | C loss: 0.0750 - C acc: 0.9688]\n",
      "8 - 800/1679 \t [D loss: -0.8695] [G loss: -0.4817] [R loss: 0.1096 | F loss: 0.0047 | C loss: 0.1039 - C acc: 0.9609]\n",
      "8 - 900/1679 \t [D loss: -0.8695] [G loss: -0.4817] [R loss: 0.1412 | F loss: 0.0002 | C loss: 0.1285 - C acc: 0.9375]\n",
      "8 - 1000/1679 \t [D loss: -0.8695] [G loss: -0.4817] [R loss: 0.0541 | F loss: 0.0003 | C loss: 0.0494 - C acc: 0.9766]\n",
      "8 - 1100/1679 \t [D loss: -0.8695] [G loss: -0.4817] [R loss: 0.1654 | F loss: 0.0007 | C loss: 0.1510 - C acc: 0.9531]\n",
      "8 - 1200/1679 \t [D loss: -0.8695] [G loss: -0.4817] [R loss: 0.0419 | F loss: 0.0042 | C loss: 0.0419 - C acc: 1.0000]\n",
      "8 - 1300/1679 \t [D loss: -0.8695] [G loss: -0.4817] [R loss: 0.1912 | F loss: 0.0054 | C loss: 0.1787 - C acc: 0.9531]\n",
      "8 - 1400/1679 \t [D loss: -0.8695] [G loss: -0.4817] [R loss: 0.0993 | F loss: 0.0002 | C loss: 0.0905 - C acc: 0.9609]\n",
      "8 - 1500/1679 \t [D loss: -0.8695] [G loss: -0.4817] [R loss: 0.1198 | F loss: 0.0017 | C loss: 0.1105 - C acc: 0.9453]\n",
      "8 - 1600/1679 \t [D loss: -0.8695] [G loss: -0.4817] [R loss: 0.0825 | F loss: 0.0010 | C loss: 0.0759 - C acc: 0.9609]\n",
      "9 - 0/1679 \t [D loss: -0.8695] [G loss: -0.4817] [R loss: 0.1184 | F loss: 0.0003 | C loss: 0.1079 - C acc: 0.9766]\n",
      "9 - 100/1679 \t [D loss: -0.8695] [G loss: -0.4817] [R loss: 0.0698 | F loss: 0.0024 | C loss: 0.0656 - C acc: 0.9922]\n",
      "9 - 200/1679 \t [D loss: -0.8695] [G loss: -0.4817] [R loss: 0.2205 | F loss: 0.0003 | C loss: 0.2007 - C acc: 0.9297]\n",
      "9 - 300/1679 \t [D loss: -0.8695] [G loss: -0.4817] [R loss: 0.1073 | F loss: 0.0001 | C loss: 0.0976 - C acc: 0.9609]\n",
      "9 - 400/1679 \t [D loss: -0.8695] [G loss: -0.4817] [R loss: 0.1271 | F loss: 0.0003 | C loss: 0.1158 - C acc: 0.9297]\n",
      "9 - 500/1679 \t [D loss: -0.8695] [G loss: -0.4817] [R loss: 0.0939 | F loss: 0.0002 | C loss: 0.0855 - C acc: 0.9766]\n",
      "9 - 600/1679 \t [D loss: -0.8695] [G loss: -0.4817] [R loss: 0.1190 | F loss: 0.0005 | C loss: 0.1086 - C acc: 0.9688]\n",
      "9 - 700/1679 \t [D loss: -0.8695] [G loss: -0.4817] [R loss: 0.0640 | F loss: 0.0002 | C loss: 0.0584 - C acc: 0.9766]\n",
      "9 - 800/1679 \t [D loss: -0.8695] [G loss: -0.4817] [R loss: 0.0828 | F loss: 0.0001 | C loss: 0.0753 - C acc: 0.9688]\n",
      "9 - 900/1679 \t [D loss: -0.8695] [G loss: -0.4817] [R loss: 0.1238 | F loss: 0.0003 | C loss: 0.1128 - C acc: 0.9297]\n",
      "9 - 1000/1679 \t [D loss: -0.8695] [G loss: -0.4817] [R loss: 0.0647 | F loss: 0.0003 | C loss: 0.0592 - C acc: 0.9844]\n",
      "9 - 1100/1679 \t [D loss: -0.8695] [G loss: -0.4817] [R loss: 0.1149 | F loss: 0.0005 | C loss: 0.1049 - C acc: 0.9609]\n",
      "9 - 1200/1679 \t [D loss: -0.8695] [G loss: -0.4817] [R loss: 0.0558 | F loss: 0.0001 | C loss: 0.0508 - C acc: 0.9766]\n",
      "9 - 1300/1679 \t [D loss: -0.8695] [G loss: -0.4817] [R loss: 0.1325 | F loss: 0.0001 | C loss: 0.1205 - C acc: 0.9609]\n",
      "9 - 1400/1679 \t [D loss: -0.8695] [G loss: -0.4817] [R loss: 0.0899 | F loss: 0.0015 | C loss: 0.0830 - C acc: 0.9688]\n",
      "9 - 1500/1679 \t [D loss: -0.8695] [G loss: -0.4817] [R loss: 0.0906 | F loss: 0.0010 | C loss: 0.0833 - C acc: 0.9609]\n",
      "9 - 1600/1679 \t [D loss: -0.8695] [G loss: -0.4817] [R loss: 0.0936 | F loss: 0.0000 | C loss: 0.0851 - C acc: 0.9609]\n"
     ]
    }
   ],
   "execution_count": 259
  },
  {
   "metadata": {
    "ExecuteTime": {
     "end_time": "2024-09-12T08:48:56.816649Z",
     "start_time": "2024-09-12T08:48:56.803142Z"
    }
   },
   "cell_type": "code",
   "source": [
    "earlystop_callback = tf.keras.callbacks.EarlyStopping(\n",
    "    monitor=\"accuracy\",\n",
    "    mode='max',\n",
    "    patience=5,\n",
    "    min_delta=0.0001\n",
    ")"
   ],
   "outputs": [],
   "execution_count": 260
  },
  {
   "metadata": {
    "ExecuteTime": {
     "end_time": "2024-09-12T08:49:01.552011Z",
     "start_time": "2024-09-12T08:48:57.866168Z"
    }
   },
   "cell_type": "code",
   "source": [
    "num_samples = 50000  # 생성할 데이터 샘플 수\n",
    "noise = np.random.normal(0, 1, (num_samples, gan.latent_dim))  # 넘파이 배열로 노이즈 생성\n",
    "labels = np.random.randint(0, gan.num_classes, num_samples).reshape(-1, 1)  # 넘파이 배열로 라벨 생성\n",
    "# Defines generator model.\n",
    "gen_mo = gan.generator\n",
    "\n",
    "print(noise.shape)\n",
    "\n",
    "# 모델을 사용하여 가짜 데이터 생성\n",
    "generated_data = gen_mo.predict([noise, labels])\n",
    "\n",
    "# 결과 출력\n",
    "print(generated_data.shape)  "
   ],
   "outputs": [
    {
     "name": "stdout",
     "output_type": "stream",
     "text": [
      "(50000, 32)\n",
      "(50000, 31)\n"
     ]
    }
   ],
   "execution_count": 261
  },
  {
   "metadata": {
    "ExecuteTime": {
     "end_time": "2024-09-12T08:50:06.248681Z",
     "start_time": "2024-09-12T08:50:02.763748Z"
    }
   },
   "cell_type": "code",
   "source": [
    "# Classifier를 사용하여 생성된 데이터의 라벨을 예측\n",
    "predicted_labels = gan.classifier.predict(generated_data)\n",
    "\n",
    "# 예측된 라벨 확인\n",
    "predicted_labels_class = np.argmax(predicted_labels, axis=1)  # 라벨을 one-hot에서 원래 라벨로 변환\n",
    "print(f\"Predicted labels: {predicted_labels_class}\")\n"
   ],
   "outputs": [
    {
     "name": "stdout",
     "output_type": "stream",
     "text": [
      "Predicted labels: [11  9 10 ...  2 10  7]\n"
     ]
    }
   ],
   "execution_count": 265
  },
  {
   "metadata": {
    "ExecuteTime": {
     "end_time": "2024-09-12T08:50:07.057030Z",
     "start_time": "2024-09-12T08:50:06.928944Z"
    }
   },
   "cell_type": "code",
   "source": [
    "from sklearn.metrics import accuracy_score, f1_score, precision_score, recall_score, confusion_matrix\n",
    "# 3. 성능 평가 - Accuracy, F1-Score, Precision, Recall\n",
    "\n",
    "# 라벨을 원래 라벨 형식으로 변환 (실제 라벨과 비교)\n",
    "true_labels = labels.flatten()  # 라벨의 차원 축소 (1D로 변환)\n",
    "\n",
    "# Accuracy 계산\n",
    "accuracy = accuracy_score(true_labels, predicted_labels_class)\n",
    "\n",
    "# F1-Score 계산\n",
    "f1 = f1_score(true_labels, predicted_labels_class, average='weighted')\n",
    "\n",
    "# Precision 계산\n",
    "precision = precision_score(true_labels, predicted_labels_class, average='weighted')\n",
    "\n",
    "# Recall 계산\n",
    "recall = recall_score(true_labels, predicted_labels_class, average='weighted')\n",
    "\n",
    "conf_matrix = confusion_matrix(true_labels, predicted_labels_class)\n",
    "FP = conf_matrix.sum(axis=0) - np.diag(conf_matrix)  # False Positives\n",
    "TN = conf_matrix.sum() - (FP + conf_matrix.sum(axis=1) - np.diag(conf_matrix))  # True Negatives\n",
    "FAR = FP / (FP + TN)\n",
    "\n",
    "# 성능 지표 출력\n",
    "print(f\"False Alarm Rate (FAR): {np.mean(FAR)}\")\n",
    "print(f\"Accuracy: {accuracy:.4f}\")\n",
    "print(f\"F1-Score: {f1:.4f}\")\n",
    "print(f\"Precision: {precision:.4f}\")"
   ],
   "outputs": [
    {
     "name": "stdout",
     "output_type": "stream",
     "text": [
      "False Alarm Rate (FAR): 0.004474666666666667\n",
      "Accuracy: 0.9329\n",
      "F1-Score: 0.9097\n",
      "Precision: 0.9641\n"
     ]
    }
   ],
   "execution_count": 266
  },
  {
   "metadata": {
    "ExecuteTime": {
     "end_time": "2024-09-12T08:09:57.416004Z",
     "start_time": "2024-09-12T08:09:45.292020Z"
    }
   },
   "cell_type": "code",
   "source": [
    "from experiments.predictions import make_prediction, PredMetrics, get_prediction_metrics, labels\n",
    "from tensorflow.keras.models import load_model\n",
    "pred_lbl = predicted_labels_class.reshape(-1, 1)\n",
    "\n",
    "\n",
    "n_generator = load_model('../models/10_classifier_standalone.h5')\n",
    "n_generator.compile(optimizer='adam', loss='binary_crossentropy')\n",
    "\n",
    "#predictions = make_prediction(gan.c, pd.DataFrame(generated_data), pd.DataFrame(pred_lbl))\n",
    "predictions = make_prediction(n_generator, pd.DataFrame(generated_data), pd.DataFrame(pred_lbl))\n",
    "pred_metrics = get_prediction_metrics(predictions)\n"
   ],
   "outputs": [],
   "execution_count": 205
  },
  {
   "metadata": {},
   "cell_type": "markdown",
   "source": "data Generator"
  },
  {
   "metadata": {
    "ExecuteTime": {
     "end_time": "2024-09-12T07:35:43.878648Z",
     "start_time": "2024-09-12T07:35:43.874661Z"
    }
   },
   "cell_type": "code",
   "source": [
    "import tensorflow as tf\n",
    "from tensorflow.keras.models import load_model"
   ],
   "outputs": [],
   "execution_count": 142
  },
  {
   "metadata": {
    "ExecuteTime": {
     "end_time": "2024-09-12T02:52:25.325438Z",
     "start_time": "2024-09-12T02:52:24.522904Z"
    }
   },
   "cell_type": "code",
   "source": "n_generator = load_model('../models/10_generator_ecgan.h5')",
   "outputs": [
    {
     "name": "stdout",
     "output_type": "stream",
     "text": [
      "WARNING:tensorflow:No training configuration found in the save file, so the model was *not* compiled. Compile it manually.\n"
     ]
    }
   ],
   "execution_count": 7
  },
  {
   "metadata": {
    "ExecuteTime": {
     "end_time": "2024-09-12T02:52:28.046083Z",
     "start_time": "2024-09-12T02:52:28.031134Z"
    }
   },
   "cell_type": "code",
   "source": "n_generator.compile(optimizer='adam', loss='binary_crossentropy')",
   "outputs": [],
   "execution_count": 8
  },
  {
   "metadata": {
    "ExecuteTime": {
     "end_time": "2024-09-12T05:01:11.225139Z",
     "start_time": "2024-09-12T05:01:09.825545Z"
    }
   },
   "cell_type": "code",
   "source": [
    "latent_dim = 32  # GAN에서 사용된 latent_dim에 맞춰 조정\n",
    "num_samples = 50000  # 생성할 가짜 데이터 샘플 수\n",
    "num_class = 15 # 공격 유형 종류 개수\n",
    "\n",
    "n_noise = np.random.normal(0, 1, (num_samples, latent_dim))\n",
    "n_labels = np.random.randint(0, num_class, num_samples).reshape(-1, 1)\n",
    "\n",
    "n_generated_data = n_generator.predict([n_noise, n_labels])\n",
    "\n",
    "\n",
    "print(\"Generated Data:\")\n",
    "print(n_generated_data)"
   ],
   "outputs": [
    {
     "name": "stdout",
     "output_type": "stream",
     "text": [
      "Generated Data:\n",
      "[[-0.68268234  0.17495912  0.20577762 ... -0.18258724 -0.18722193\n",
      "   0.01443134]\n",
      " [-0.79286534 -0.11340783 -0.31293982 ...  0.05823324 -0.18581195\n",
      "   0.3014445 ]\n",
      " [-0.4163572  -0.03150876 -0.10934426 ... -0.02998968 -0.2822905\n",
      "   0.01190818]\n",
      " ...\n",
      " [ 0.20412876 -0.19480619 -0.7785817  ... -0.06264126 -0.127092\n",
      "   0.2526062 ]\n",
      " [-0.71806127 -0.09468994  0.21338812 ... -0.13885799 -0.45534924\n",
      "  -0.3653347 ]\n",
      " [-0.04258306 -0.043513   -0.82570744 ... -0.13206884 -0.61264884\n",
      "  -0.27819312]]\n"
     ]
    }
   ],
   "execution_count": 31
  },
  {
   "metadata": {},
   "cell_type": "markdown",
   "source": "FID score"
  },
  {
   "metadata": {
    "ExecuteTime": {
     "end_time": "2024-09-12T05:01:14.963699Z",
     "start_time": "2024-09-12T05:01:14.944527Z"
    }
   },
   "cell_type": "code",
   "source": [
    "n_generated_data.shape\n",
    "n_generated_data"
   ],
   "outputs": [
    {
     "data": {
      "text/plain": [
       "array([[-0.68268234,  0.17495912,  0.20577762, ..., -0.18258724,\n",
       "        -0.18722193,  0.01443134],\n",
       "       [-0.79286534, -0.11340783, -0.31293982, ...,  0.05823324,\n",
       "        -0.18581195,  0.3014445 ],\n",
       "       [-0.4163572 , -0.03150876, -0.10934426, ..., -0.02998968,\n",
       "        -0.2822905 ,  0.01190818],\n",
       "       ...,\n",
       "       [ 0.20412876, -0.19480619, -0.7785817 , ..., -0.06264126,\n",
       "        -0.127092  ,  0.2526062 ],\n",
       "       [-0.71806127, -0.09468994,  0.21338812, ..., -0.13885799,\n",
       "        -0.45534924, -0.3653347 ],\n",
       "       [-0.04258306, -0.043513  , -0.82570744, ..., -0.13206884,\n",
       "        -0.61264884, -0.27819312]], dtype=float32)"
      ]
     },
     "execution_count": 32,
     "metadata": {},
     "output_type": "execute_result"
    }
   ],
   "execution_count": 32
  },
  {
   "metadata": {
    "ExecuteTime": {
     "end_time": "2024-09-24T04:27:16.699386Z",
     "start_time": "2024-09-24T04:27:12.163313Z"
    }
   },
   "cell_type": "code",
   "source": [
    "generator = load_model('../models/10_generator_ecgan.h5')\n",
    "\n",
    "generator.compile(optimizer='adamax', loss='categorical_crossentropy')"
   ],
   "outputs": [
    {
     "name": "stdout",
     "output_type": "stream",
     "text": [
      "WARNING:tensorflow:No training configuration found in the save file, so the model was *not* compiled. Compile it manually.\n"
     ]
    }
   ],
   "execution_count": 277
  },
  {
   "metadata": {
    "ExecuteTime": {
     "end_time": "2024-09-24T04:27:30.042291Z",
     "start_time": "2024-09-24T04:27:30.010293Z"
    }
   },
   "cell_type": "code",
   "source": "generator.x_train",
   "outputs": [
    {
     "ename": "AttributeError",
     "evalue": "'Functional' object has no attribute 'x_train'",
     "output_type": "error",
     "traceback": [
      "\u001B[1;31m---------------------------------------------------------------------------\u001B[0m",
      "\u001B[1;31mAttributeError\u001B[0m                            Traceback (most recent call last)",
      "Cell \u001B[1;32mIn[278], line 1\u001B[0m\n\u001B[1;32m----> 1\u001B[0m \u001B[43mgenerator\u001B[49m\u001B[38;5;241;43m.\u001B[39;49m\u001B[43mx_train\u001B[49m\n",
      "\u001B[1;31mAttributeError\u001B[0m: 'Functional' object has no attribute 'x_train'"
     ]
    }
   ],
   "execution_count": 278
  },
  {
   "metadata": {
    "ExecuteTime": {
     "end_time": "2024-09-12T05:01:18.641667Z",
     "start_time": "2024-09-12T05:01:18.636683Z"
    }
   },
   "cell_type": "code",
   "source": [
    "# real_data = Input(shape=gan_4.data_dim, name=\"Real_data\")\n",
    "real_data = gan.x_train\n",
    "print(real_data.shape)\n",
    "real_data"
   ],
   "outputs": [
    {
     "name": "stdout",
     "output_type": "stream",
     "text": [
      "(214912, 31)\n"
     ]
    },
    {
     "data": {
      "text/plain": [
       "array([[ 1.85775220e-01,  1.18859810e-01, -2.33336013e-01, ...,\n",
       "         1.42831494e-03, -1.49054324e-01, -3.82786162e-02],\n",
       "       [-3.49671383e-01, -1.19709206e-02, -1.96306732e-02, ...,\n",
       "        -1.09954130e-02,  5.84614070e-02, -3.87464246e-01],\n",
       "       [-4.20425564e-01, -9.41638142e-03,  9.02171118e-02, ...,\n",
       "         2.76713237e-03, -1.50640826e-01, -3.32339831e-02],\n",
       "       ...,\n",
       "       [-6.07627877e-01, -1.64936326e-02,  4.88910680e-02, ...,\n",
       "        -1.89801871e-03, -7.00946179e-03,  3.23437019e-02],\n",
       "       [ 5.13103114e-01,  1.94842904e-02, -6.77089951e-01, ...,\n",
       "        -5.40587256e-04, -2.47992226e-02,  1.16792042e-01],\n",
       "       [ 4.99980194e-01,  5.12125608e-02,  1.35006774e-01, ...,\n",
       "        -1.52033428e-02, -7.36446875e-02, -5.18328094e-02]])"
      ]
     },
     "execution_count": 33,
     "metadata": {},
     "output_type": "execute_result"
    }
   ],
   "execution_count": 33
  },
  {
   "metadata": {
    "ExecuteTime": {
     "end_time": "2024-09-24T04:23:51.861765Z",
     "start_time": "2024-09-24T04:23:51.854788Z"
    }
   },
   "cell_type": "code",
   "source": "gan",
   "outputs": [
    {
     "data": {
      "text/plain": [
       "<__main__.ECGAN at 0x19698e57b20>"
      ]
     },
     "execution_count": 274,
     "metadata": {},
     "output_type": "execute_result"
    }
   ],
   "execution_count": 274
  },
  {
   "metadata": {
    "ExecuteTime": {
     "end_time": "2024-09-12T08:26:54.647675Z",
     "start_time": "2024-09-12T08:26:54.628254Z"
    }
   },
   "cell_type": "code",
   "source": [
    "import numpy as np\n",
    "from scipy.linalg import sqrtm\n",
    "\n",
    "# FID 계산 함수\n",
    "def calculate_fid(real_data, generated_data):\n",
    "    # 평균과 공분산 계산\n",
    "    mu1, sigma1 = np.mean(real_data, axis=0), np.cov(real_data, rowvar=False)\n",
    "    mu2, sigma2 = np.mean(generated_data, axis=0), np.cov(generated_data, rowvar=False)\n",
    "\n",
    "    # 평균 차이 제곱합 계산\n",
    "    ssdiff = np.sum((mu1 - mu2)**2)\n",
    "\n",
    "    # 공분산 행렬의 곱의 제곱근 계산\n",
    "    covmean = sqrtm(sigma1.dot(sigma2))\n",
    "\n",
    "    # 공분산 행렬에 복소수 값이 발생하는 경우 실수로 변환\n",
    "    if np.iscomplexobj(covmean):\n",
    "        covmean = covmean.real\n",
    "\n",
    "    # Fréchet Distance 계산\n",
    "    fid = ssdiff + np.trace(sigma1 + sigma2 - 2 * covmean)\n",
    "    return fid\n"
   ],
   "outputs": [],
   "execution_count": 256
  },
  {
   "metadata": {
    "ExecuteTime": {
     "end_time": "2024-09-12T08:55:51.245195Z",
     "start_time": "2024-09-12T08:55:51.104999Z"
    }
   },
   "cell_type": "code",
   "source": [
    "from sklearn.preprocessing import MinMaxScaler\n",
    "# 데이터 정규화 (0과 1 사이로 변환)\n",
    "scaler = MinMaxScaler(feature_range=(0, 1))\n",
    "\n",
    "# 실제 데이터 정규화\n",
    "x_train_scaled = scaler.fit_transform(gan.x_train)\n",
    "\n",
    "generated_data_scaled = scaler.transform(generated_data)\n",
    "norm = Normalizer().fit(x_train_scaled)\n",
    "\n",
    "x_train_scaled\\\n",
    "    = norm.transform(x_train_scaled)\n",
    "generated_data_scaled = norm.transform(generated_data_scaled)\n",
    "\n",
    "# FID 계산\n",
    "real_data = x_train_scaled\n",
    "fid_score = calculate_fid(generated_data_scaled, np.array(real_data))\n",
    "print(f\"FID Score: {fid_score}\")"
   ],
   "outputs": [
    {
     "name": "stdout",
     "output_type": "stream",
     "text": [
      "FID Score: 0.23649834826424593\n"
     ]
    }
   ],
   "execution_count": 273
  },
  {
   "metadata": {
    "ExecuteTime": {
     "end_time": "2024-09-12T08:51:27.693357Z",
     "start_time": "2024-09-12T08:51:27.640027Z"
    }
   },
   "cell_type": "code",
   "source": [
    "# FID 계산\n",
    "real_data = gan.x_train\n",
    "fid_score = calculate_fid(generated_data, np.array(real_data))\n",
    "print(f\"FID Score: {fid_score}\")"
   ],
   "outputs": [
    {
     "name": "stdout",
     "output_type": "stream",
     "text": [
      "FID Score: 3.21723348627425\n"
     ]
    }
   ],
   "execution_count": 269
  },
  {
   "metadata": {
    "ExecuteTime": {
     "end_time": "2024-09-12T05:21:57.328704Z",
     "start_time": "2024-09-12T05:21:57.311759Z"
    }
   },
   "cell_type": "code",
   "source": [
    "np.save(\"./gen_x_test.npy\", generated_data)\n",
    "np.save(\"./gen_y_test.npy\", labels)\n",
    "\n",
    "np.save(\"./n_gen_x_test.npy\", n_generated_data)\n",
    "np.save(\"./n_gen_y_test.npy\", n_labels)\n"
   ],
   "outputs": [],
   "execution_count": 57
  },
  {
   "metadata": {
    "ExecuteTime": {
     "end_time": "2024-09-12T05:54:28.680099Z",
     "start_time": "2024-09-12T05:54:25.081484Z"
    }
   },
   "cell_type": "code",
   "source": "n_generator = load_model('../models/10_generator_ecgan.h5')",
   "outputs": [
    {
     "name": "stdout",
     "output_type": "stream",
     "text": [
      "WARNING:tensorflow:No training configuration found in the save file, so the model was *not* compiled. Compile it manually.\n"
     ]
    }
   ],
   "execution_count": 70
  },
  {
   "metadata": {
    "ExecuteTime": {
     "end_time": "2024-09-12T08:40:28.506598Z",
     "start_time": "2024-09-12T08:40:27.105942Z"
    }
   },
   "cell_type": "code",
   "source": [
    "import numpy as np\n",
    "import matplotlib.pyplot as plt\n",
    "\n",
    "# 1. real_data와 generated_data 예시 생성\n",
    "# real_data = np.random.randn(real_data, 31)   # 실제 데이터\n",
    "# generated_data = np.random.randn(generated_data, 31)  # 생성된 데이터\n",
    "\n",
    "# 2. 특정 피처 선택 (예: 첫 번째 피처 0번)\n",
    "real_feature = real_data[:, 0]\n",
    "generated_feature = generated_data[:, 0]\n",
    "\n",
    "# 3. 히스토그램으로 분포 시각화\n",
    "plt.figure(figsize=(10, 6))\n",
    "\n",
    "# 실제 데이터 히스토그램 (파란색)\n",
    "plt.hist(real_feature, bins=30, alpha=0.5, label=\"Real Data\", color='blue')\n",
    "\n",
    "# 생성된 데이터 히스토그램 (빨간색)\n",
    "plt.hist(generated_feature, bins=30, alpha=0.5, label=\"Generated Data\", color='red')\n",
    "\n",
    "# 그래프 세부 설정\n",
    "plt.xlabel(\"Feature Value\")\n",
    "plt.ylabel(\"Frequency\")\n",
    "plt.title(\"Feature 0 Distribution (Real vs Generated Data)\")\n",
    "plt.legend()\n",
    "plt.show()\n"
   ],
   "outputs": [
    {
     "ename": "ValueError",
     "evalue": "autodetected range of [nan, nan] is not finite",
     "output_type": "error",
     "traceback": [
      "\u001B[1;31m---------------------------------------------------------------------------\u001B[0m",
      "\u001B[1;31mValueError\u001B[0m                                Traceback (most recent call last)",
      "Cell \u001B[1;32mIn[258], line 19\u001B[0m\n\u001B[0;32m     16\u001B[0m plt\u001B[38;5;241m.\u001B[39mhist(real_feature, bins\u001B[38;5;241m=\u001B[39m\u001B[38;5;241m30\u001B[39m, alpha\u001B[38;5;241m=\u001B[39m\u001B[38;5;241m0.5\u001B[39m, label\u001B[38;5;241m=\u001B[39m\u001B[38;5;124m\"\u001B[39m\u001B[38;5;124mReal Data\u001B[39m\u001B[38;5;124m\"\u001B[39m, color\u001B[38;5;241m=\u001B[39m\u001B[38;5;124m'\u001B[39m\u001B[38;5;124mblue\u001B[39m\u001B[38;5;124m'\u001B[39m)\n\u001B[0;32m     18\u001B[0m \u001B[38;5;66;03m# 생성된 데이터 히스토그램 (빨간색)\u001B[39;00m\n\u001B[1;32m---> 19\u001B[0m \u001B[43mplt\u001B[49m\u001B[38;5;241;43m.\u001B[39;49m\u001B[43mhist\u001B[49m\u001B[43m(\u001B[49m\u001B[43mgenerated_feature\u001B[49m\u001B[43m,\u001B[49m\u001B[43m \u001B[49m\u001B[43mbins\u001B[49m\u001B[38;5;241;43m=\u001B[39;49m\u001B[38;5;241;43m30\u001B[39;49m\u001B[43m,\u001B[49m\u001B[43m \u001B[49m\u001B[43malpha\u001B[49m\u001B[38;5;241;43m=\u001B[39;49m\u001B[38;5;241;43m0.5\u001B[39;49m\u001B[43m,\u001B[49m\u001B[43m \u001B[49m\u001B[43mlabel\u001B[49m\u001B[38;5;241;43m=\u001B[39;49m\u001B[38;5;124;43m\"\u001B[39;49m\u001B[38;5;124;43mGenerated Data\u001B[39;49m\u001B[38;5;124;43m\"\u001B[39;49m\u001B[43m,\u001B[49m\u001B[43m \u001B[49m\u001B[43mcolor\u001B[49m\u001B[38;5;241;43m=\u001B[39;49m\u001B[38;5;124;43m'\u001B[39;49m\u001B[38;5;124;43mred\u001B[39;49m\u001B[38;5;124;43m'\u001B[39;49m\u001B[43m)\u001B[49m\n\u001B[0;32m     21\u001B[0m \u001B[38;5;66;03m# 그래프 세부 설정\u001B[39;00m\n\u001B[0;32m     22\u001B[0m plt\u001B[38;5;241m.\u001B[39mxlabel(\u001B[38;5;124m\"\u001B[39m\u001B[38;5;124mFeature Value\u001B[39m\u001B[38;5;124m\"\u001B[39m)\n",
      "File \u001B[1;32m~\\miniconda3\\envs\\ecs\\lib\\site-packages\\matplotlib\\pyplot.py:2685\u001B[0m, in \u001B[0;36mhist\u001B[1;34m(x, bins, range, density, weights, cumulative, bottom, histtype, align, orientation, rwidth, log, color, label, stacked, data, **kwargs)\u001B[0m\n\u001B[0;32m   2679\u001B[0m \u001B[38;5;129m@_copy_docstring_and_deprecators\u001B[39m(Axes\u001B[38;5;241m.\u001B[39mhist)\n\u001B[0;32m   2680\u001B[0m \u001B[38;5;28;01mdef\u001B[39;00m \u001B[38;5;21mhist\u001B[39m(\n\u001B[0;32m   2681\u001B[0m         x, bins\u001B[38;5;241m=\u001B[39m\u001B[38;5;28;01mNone\u001B[39;00m, \u001B[38;5;28mrange\u001B[39m\u001B[38;5;241m=\u001B[39m\u001B[38;5;28;01mNone\u001B[39;00m, density\u001B[38;5;241m=\u001B[39m\u001B[38;5;28;01mFalse\u001B[39;00m, weights\u001B[38;5;241m=\u001B[39m\u001B[38;5;28;01mNone\u001B[39;00m,\n\u001B[0;32m   2682\u001B[0m         cumulative\u001B[38;5;241m=\u001B[39m\u001B[38;5;28;01mFalse\u001B[39;00m, bottom\u001B[38;5;241m=\u001B[39m\u001B[38;5;28;01mNone\u001B[39;00m, histtype\u001B[38;5;241m=\u001B[39m\u001B[38;5;124m'\u001B[39m\u001B[38;5;124mbar\u001B[39m\u001B[38;5;124m'\u001B[39m, align\u001B[38;5;241m=\u001B[39m\u001B[38;5;124m'\u001B[39m\u001B[38;5;124mmid\u001B[39m\u001B[38;5;124m'\u001B[39m,\n\u001B[0;32m   2683\u001B[0m         orientation\u001B[38;5;241m=\u001B[39m\u001B[38;5;124m'\u001B[39m\u001B[38;5;124mvertical\u001B[39m\u001B[38;5;124m'\u001B[39m, rwidth\u001B[38;5;241m=\u001B[39m\u001B[38;5;28;01mNone\u001B[39;00m, log\u001B[38;5;241m=\u001B[39m\u001B[38;5;28;01mFalse\u001B[39;00m, color\u001B[38;5;241m=\u001B[39m\u001B[38;5;28;01mNone\u001B[39;00m,\n\u001B[0;32m   2684\u001B[0m         label\u001B[38;5;241m=\u001B[39m\u001B[38;5;28;01mNone\u001B[39;00m, stacked\u001B[38;5;241m=\u001B[39m\u001B[38;5;28;01mFalse\u001B[39;00m, \u001B[38;5;241m*\u001B[39m, data\u001B[38;5;241m=\u001B[39m\u001B[38;5;28;01mNone\u001B[39;00m, \u001B[38;5;241m*\u001B[39m\u001B[38;5;241m*\u001B[39mkwargs):\n\u001B[1;32m-> 2685\u001B[0m     \u001B[38;5;28;01mreturn\u001B[39;00m \u001B[43mgca\u001B[49m\u001B[43m(\u001B[49m\u001B[43m)\u001B[49m\u001B[38;5;241;43m.\u001B[39;49m\u001B[43mhist\u001B[49m\u001B[43m(\u001B[49m\n\u001B[0;32m   2686\u001B[0m \u001B[43m        \u001B[49m\u001B[43mx\u001B[49m\u001B[43m,\u001B[49m\u001B[43m \u001B[49m\u001B[43mbins\u001B[49m\u001B[38;5;241;43m=\u001B[39;49m\u001B[43mbins\u001B[49m\u001B[43m,\u001B[49m\u001B[43m \u001B[49m\u001B[38;5;28;43mrange\u001B[39;49m\u001B[38;5;241;43m=\u001B[39;49m\u001B[38;5;28;43mrange\u001B[39;49m\u001B[43m,\u001B[49m\u001B[43m \u001B[49m\u001B[43mdensity\u001B[49m\u001B[38;5;241;43m=\u001B[39;49m\u001B[43mdensity\u001B[49m\u001B[43m,\u001B[49m\u001B[43m \u001B[49m\u001B[43mweights\u001B[49m\u001B[38;5;241;43m=\u001B[39;49m\u001B[43mweights\u001B[49m\u001B[43m,\u001B[49m\n\u001B[0;32m   2687\u001B[0m \u001B[43m        \u001B[49m\u001B[43mcumulative\u001B[49m\u001B[38;5;241;43m=\u001B[39;49m\u001B[43mcumulative\u001B[49m\u001B[43m,\u001B[49m\u001B[43m \u001B[49m\u001B[43mbottom\u001B[49m\u001B[38;5;241;43m=\u001B[39;49m\u001B[43mbottom\u001B[49m\u001B[43m,\u001B[49m\u001B[43m \u001B[49m\u001B[43mhisttype\u001B[49m\u001B[38;5;241;43m=\u001B[39;49m\u001B[43mhisttype\u001B[49m\u001B[43m,\u001B[49m\n\u001B[0;32m   2688\u001B[0m \u001B[43m        \u001B[49m\u001B[43malign\u001B[49m\u001B[38;5;241;43m=\u001B[39;49m\u001B[43malign\u001B[49m\u001B[43m,\u001B[49m\u001B[43m \u001B[49m\u001B[43morientation\u001B[49m\u001B[38;5;241;43m=\u001B[39;49m\u001B[43morientation\u001B[49m\u001B[43m,\u001B[49m\u001B[43m \u001B[49m\u001B[43mrwidth\u001B[49m\u001B[38;5;241;43m=\u001B[39;49m\u001B[43mrwidth\u001B[49m\u001B[43m,\u001B[49m\u001B[43m \u001B[49m\u001B[43mlog\u001B[49m\u001B[38;5;241;43m=\u001B[39;49m\u001B[43mlog\u001B[49m\u001B[43m,\u001B[49m\n\u001B[0;32m   2689\u001B[0m \u001B[43m        \u001B[49m\u001B[43mcolor\u001B[49m\u001B[38;5;241;43m=\u001B[39;49m\u001B[43mcolor\u001B[49m\u001B[43m,\u001B[49m\u001B[43m \u001B[49m\u001B[43mlabel\u001B[49m\u001B[38;5;241;43m=\u001B[39;49m\u001B[43mlabel\u001B[49m\u001B[43m,\u001B[49m\u001B[43m \u001B[49m\u001B[43mstacked\u001B[49m\u001B[38;5;241;43m=\u001B[39;49m\u001B[43mstacked\u001B[49m\u001B[43m,\u001B[49m\n\u001B[0;32m   2690\u001B[0m \u001B[43m        \u001B[49m\u001B[38;5;241;43m*\u001B[39;49m\u001B[38;5;241;43m*\u001B[39;49m\u001B[43m(\u001B[49m\u001B[43m{\u001B[49m\u001B[38;5;124;43m\"\u001B[39;49m\u001B[38;5;124;43mdata\u001B[39;49m\u001B[38;5;124;43m\"\u001B[39;49m\u001B[43m:\u001B[49m\u001B[43m \u001B[49m\u001B[43mdata\u001B[49m\u001B[43m}\u001B[49m\u001B[43m \u001B[49m\u001B[38;5;28;43;01mif\u001B[39;49;00m\u001B[43m \u001B[49m\u001B[43mdata\u001B[49m\u001B[43m \u001B[49m\u001B[38;5;129;43;01mis\u001B[39;49;00m\u001B[43m \u001B[49m\u001B[38;5;129;43;01mnot\u001B[39;49;00m\u001B[43m \u001B[49m\u001B[38;5;28;43;01mNone\u001B[39;49;00m\u001B[43m \u001B[49m\u001B[38;5;28;43;01melse\u001B[39;49;00m\u001B[43m \u001B[49m\u001B[43m{\u001B[49m\u001B[43m}\u001B[49m\u001B[43m)\u001B[49m\u001B[43m,\u001B[49m\u001B[43m \u001B[49m\u001B[38;5;241;43m*\u001B[39;49m\u001B[38;5;241;43m*\u001B[39;49m\u001B[43mkwargs\u001B[49m\u001B[43m)\u001B[49m\n",
      "File \u001B[1;32m~\\miniconda3\\envs\\ecs\\lib\\site-packages\\matplotlib\\__init__.py:1447\u001B[0m, in \u001B[0;36m_preprocess_data.<locals>.inner\u001B[1;34m(ax, data, *args, **kwargs)\u001B[0m\n\u001B[0;32m   1444\u001B[0m \u001B[38;5;129m@functools\u001B[39m\u001B[38;5;241m.\u001B[39mwraps(func)\n\u001B[0;32m   1445\u001B[0m \u001B[38;5;28;01mdef\u001B[39;00m \u001B[38;5;21minner\u001B[39m(ax, \u001B[38;5;241m*\u001B[39margs, data\u001B[38;5;241m=\u001B[39m\u001B[38;5;28;01mNone\u001B[39;00m, \u001B[38;5;241m*\u001B[39m\u001B[38;5;241m*\u001B[39mkwargs):\n\u001B[0;32m   1446\u001B[0m     \u001B[38;5;28;01mif\u001B[39;00m data \u001B[38;5;129;01mis\u001B[39;00m \u001B[38;5;28;01mNone\u001B[39;00m:\n\u001B[1;32m-> 1447\u001B[0m         \u001B[38;5;28;01mreturn\u001B[39;00m \u001B[43mfunc\u001B[49m\u001B[43m(\u001B[49m\u001B[43max\u001B[49m\u001B[43m,\u001B[49m\u001B[43m \u001B[49m\u001B[38;5;241;43m*\u001B[39;49m\u001B[38;5;28;43mmap\u001B[39;49m\u001B[43m(\u001B[49m\u001B[43msanitize_sequence\u001B[49m\u001B[43m,\u001B[49m\u001B[43m \u001B[49m\u001B[43margs\u001B[49m\u001B[43m)\u001B[49m\u001B[43m,\u001B[49m\u001B[43m \u001B[49m\u001B[38;5;241;43m*\u001B[39;49m\u001B[38;5;241;43m*\u001B[39;49m\u001B[43mkwargs\u001B[49m\u001B[43m)\u001B[49m\n\u001B[0;32m   1449\u001B[0m     bound \u001B[38;5;241m=\u001B[39m new_sig\u001B[38;5;241m.\u001B[39mbind(ax, \u001B[38;5;241m*\u001B[39margs, \u001B[38;5;241m*\u001B[39m\u001B[38;5;241m*\u001B[39mkwargs)\n\u001B[0;32m   1450\u001B[0m     auto_label \u001B[38;5;241m=\u001B[39m (bound\u001B[38;5;241m.\u001B[39marguments\u001B[38;5;241m.\u001B[39mget(label_namer)\n\u001B[0;32m   1451\u001B[0m                   \u001B[38;5;129;01mor\u001B[39;00m bound\u001B[38;5;241m.\u001B[39mkwargs\u001B[38;5;241m.\u001B[39mget(label_namer))\n",
      "File \u001B[1;32m~\\miniconda3\\envs\\ecs\\lib\\site-packages\\matplotlib\\axes\\_axes.py:6651\u001B[0m, in \u001B[0;36mAxes.hist\u001B[1;34m(self, x, bins, range, density, weights, cumulative, bottom, histtype, align, orientation, rwidth, log, color, label, stacked, **kwargs)\u001B[0m\n\u001B[0;32m   6647\u001B[0m \u001B[38;5;66;03m# Loop through datasets\u001B[39;00m\n\u001B[0;32m   6648\u001B[0m \u001B[38;5;28;01mfor\u001B[39;00m i \u001B[38;5;129;01min\u001B[39;00m \u001B[38;5;28mrange\u001B[39m(nx):\n\u001B[0;32m   6649\u001B[0m     \u001B[38;5;66;03m# this will automatically overwrite bins,\u001B[39;00m\n\u001B[0;32m   6650\u001B[0m     \u001B[38;5;66;03m# so that each histogram uses the same bins\u001B[39;00m\n\u001B[1;32m-> 6651\u001B[0m     m, bins \u001B[38;5;241m=\u001B[39m \u001B[43mnp\u001B[49m\u001B[38;5;241;43m.\u001B[39;49m\u001B[43mhistogram\u001B[49m\u001B[43m(\u001B[49m\u001B[43mx\u001B[49m\u001B[43m[\u001B[49m\u001B[43mi\u001B[49m\u001B[43m]\u001B[49m\u001B[43m,\u001B[49m\u001B[43m \u001B[49m\u001B[43mbins\u001B[49m\u001B[43m,\u001B[49m\u001B[43m \u001B[49m\u001B[43mweights\u001B[49m\u001B[38;5;241;43m=\u001B[39;49m\u001B[43mw\u001B[49m\u001B[43m[\u001B[49m\u001B[43mi\u001B[49m\u001B[43m]\u001B[49m\u001B[43m,\u001B[49m\u001B[43m \u001B[49m\u001B[38;5;241;43m*\u001B[39;49m\u001B[38;5;241;43m*\u001B[39;49m\u001B[43mhist_kwargs\u001B[49m\u001B[43m)\u001B[49m\n\u001B[0;32m   6652\u001B[0m     tops\u001B[38;5;241m.\u001B[39mappend(m)\n\u001B[0;32m   6653\u001B[0m tops \u001B[38;5;241m=\u001B[39m np\u001B[38;5;241m.\u001B[39marray(tops, \u001B[38;5;28mfloat\u001B[39m)  \u001B[38;5;66;03m# causes problems later if it's an int\u001B[39;00m\n",
      "File \u001B[1;32m<__array_function__ internals>:5\u001B[0m, in \u001B[0;36mhistogram\u001B[1;34m(*args, **kwargs)\u001B[0m\n",
      "File \u001B[1;32m~\\miniconda3\\envs\\ecs\\lib\\site-packages\\numpy\\lib\\histograms.py:792\u001B[0m, in \u001B[0;36mhistogram\u001B[1;34m(a, bins, range, normed, weights, density)\u001B[0m\n\u001B[0;32m    680\u001B[0m \u001B[38;5;250m\u001B[39m\u001B[38;5;124mr\u001B[39m\u001B[38;5;124;03m\"\"\"\u001B[39;00m\n\u001B[0;32m    681\u001B[0m \u001B[38;5;124;03mCompute the histogram of a set of data.\u001B[39;00m\n\u001B[0;32m    682\u001B[0m \n\u001B[1;32m   (...)\u001B[0m\n\u001B[0;32m    788\u001B[0m \n\u001B[0;32m    789\u001B[0m \u001B[38;5;124;03m\"\"\"\u001B[39;00m\n\u001B[0;32m    790\u001B[0m a, weights \u001B[38;5;241m=\u001B[39m _ravel_and_check_weights(a, weights)\n\u001B[1;32m--> 792\u001B[0m bin_edges, uniform_bins \u001B[38;5;241m=\u001B[39m \u001B[43m_get_bin_edges\u001B[49m\u001B[43m(\u001B[49m\u001B[43ma\u001B[49m\u001B[43m,\u001B[49m\u001B[43m \u001B[49m\u001B[43mbins\u001B[49m\u001B[43m,\u001B[49m\u001B[43m \u001B[49m\u001B[38;5;28;43mrange\u001B[39;49m\u001B[43m,\u001B[49m\u001B[43m \u001B[49m\u001B[43mweights\u001B[49m\u001B[43m)\u001B[49m\n\u001B[0;32m    794\u001B[0m \u001B[38;5;66;03m# Histogram is an integer or a float array depending on the weights.\u001B[39;00m\n\u001B[0;32m    795\u001B[0m \u001B[38;5;28;01mif\u001B[39;00m weights \u001B[38;5;129;01mis\u001B[39;00m \u001B[38;5;28;01mNone\u001B[39;00m:\n",
      "File \u001B[1;32m~\\miniconda3\\envs\\ecs\\lib\\site-packages\\numpy\\lib\\histograms.py:426\u001B[0m, in \u001B[0;36m_get_bin_edges\u001B[1;34m(a, bins, range, weights)\u001B[0m\n\u001B[0;32m    423\u001B[0m     \u001B[38;5;28;01mif\u001B[39;00m n_equal_bins \u001B[38;5;241m<\u001B[39m \u001B[38;5;241m1\u001B[39m:\n\u001B[0;32m    424\u001B[0m         \u001B[38;5;28;01mraise\u001B[39;00m \u001B[38;5;167;01mValueError\u001B[39;00m(\u001B[38;5;124m'\u001B[39m\u001B[38;5;124m`bins` must be positive, when an integer\u001B[39m\u001B[38;5;124m'\u001B[39m)\n\u001B[1;32m--> 426\u001B[0m     first_edge, last_edge \u001B[38;5;241m=\u001B[39m \u001B[43m_get_outer_edges\u001B[49m\u001B[43m(\u001B[49m\u001B[43ma\u001B[49m\u001B[43m,\u001B[49m\u001B[43m \u001B[49m\u001B[38;5;28;43mrange\u001B[39;49m\u001B[43m)\u001B[49m\n\u001B[0;32m    428\u001B[0m \u001B[38;5;28;01melif\u001B[39;00m np\u001B[38;5;241m.\u001B[39mndim(bins) \u001B[38;5;241m==\u001B[39m \u001B[38;5;241m1\u001B[39m:\n\u001B[0;32m    429\u001B[0m     bin_edges \u001B[38;5;241m=\u001B[39m np\u001B[38;5;241m.\u001B[39masarray(bins)\n",
      "File \u001B[1;32m~\\miniconda3\\envs\\ecs\\lib\\site-packages\\numpy\\lib\\histograms.py:323\u001B[0m, in \u001B[0;36m_get_outer_edges\u001B[1;34m(a, range)\u001B[0m\n\u001B[0;32m    321\u001B[0m     first_edge, last_edge \u001B[38;5;241m=\u001B[39m a\u001B[38;5;241m.\u001B[39mmin(), a\u001B[38;5;241m.\u001B[39mmax()\n\u001B[0;32m    322\u001B[0m     \u001B[38;5;28;01mif\u001B[39;00m \u001B[38;5;129;01mnot\u001B[39;00m (np\u001B[38;5;241m.\u001B[39misfinite(first_edge) \u001B[38;5;129;01mand\u001B[39;00m np\u001B[38;5;241m.\u001B[39misfinite(last_edge)):\n\u001B[1;32m--> 323\u001B[0m         \u001B[38;5;28;01mraise\u001B[39;00m \u001B[38;5;167;01mValueError\u001B[39;00m(\n\u001B[0;32m    324\u001B[0m             \u001B[38;5;124m\"\u001B[39m\u001B[38;5;124mautodetected range of [\u001B[39m\u001B[38;5;132;01m{}\u001B[39;00m\u001B[38;5;124m, \u001B[39m\u001B[38;5;132;01m{}\u001B[39;00m\u001B[38;5;124m] is not finite\u001B[39m\u001B[38;5;124m\"\u001B[39m\u001B[38;5;241m.\u001B[39mformat(first_edge, last_edge))\n\u001B[0;32m    326\u001B[0m \u001B[38;5;66;03m# expand empty range to avoid divide by zero\u001B[39;00m\n\u001B[0;32m    327\u001B[0m \u001B[38;5;28;01mif\u001B[39;00m first_edge \u001B[38;5;241m==\u001B[39m last_edge:\n",
      "\u001B[1;31mValueError\u001B[0m: autodetected range of [nan, nan] is not finite"
     ]
    },
    {
     "data": {
      "text/plain": [
       "<Figure size 1000x600 with 1 Axes>"
      ],
      "image/png": "[encoded data removed]"
     },
     "metadata": {},
     "output_type": "display_data"
    }
   ],
   "execution_count": 258
  },
  {
   "metadata": {
    "ExecuteTime": {
     "end_time": "2024-09-12T08:52:49.283008Z",
     "start_time": "2024-09-12T08:52:45.138146Z"
    }
   },
   "cell_type": "code",
   "source": [
    "import numpy as np\n",
    "import matplotlib.pyplot as plt\n",
    "from sklearn.decomposition import PCA\n",
    "\n",
    "# 1. real_data와 generated_data 예시 생성\n",
    "#real_data = np.random.randn(411136, 31)   # 실제 데이터\n",
    "#generated_data = np.random.randn(10000, 31)  # 생성된 데이터\n",
    "\n",
    "# 2. PCA로 2차원으로 차원 축소\n",
    "pca = PCA(n_components=2)\n",
    "real_data_2d = pca.fit_transform(real_data)\n",
    "generated_data_2d = pca.transform(generated_data)\n",
    "\n",
    "norm = Normalizer().fit(real_data_2d)\n",
    "\n",
    "real_data_2d = norm.transform(real_data_2d)\n",
    "generated_data_2d = norm.transform(generated_data_2d)\n",
    "\n",
    "# 3. 시각화\n",
    "plt.figure(figsize=(8, 6))\n",
    "\n",
    "# 실제 데이터 점으로 표시 (파란색)\n",
    "plt.scatter(real_data_2d[:, 0], real_data_2d[:, 1], label=\"Real Data\", alpha=0.5, c='blue', s=10)\n",
    "\n",
    "# 생성된 데이터 점으로 표시 (빨간색)\n",
    "plt.scatter(generated_data_2d[:, 0], generated_data_2d[:, 1], label=\"Generated Data\", alpha=0.5, c='red', s=10)\n",
    "\n",
    "# 제목 및 범례 추가\n",
    "plt.title(\"Real Data vs Generated Data (PCA 2D Projection)\")\n",
    "plt.legend()\n",
    "plt.show()\n"
   ],
   "outputs": [
    {
     "data": {
      "text/plain": [
       "<Figure size 800x600 with 1 Axes>"
      ],
      "image/png": "[encoded data removed]"
     },
     "metadata": {},
     "output_type": "display_data"
    }
   ],
   "execution_count": 271
  },
  {
   "metadata": {},
   "cell_type": "code",
   "outputs": [],
   "execution_count": null,
   "source": ""
  }
 ],
 "metadata": {
  "kernelspec": {
   "display_name": "Python 3 (ipykernel)",
   "language": "python",
   "name": "python3"
  },
  "language_info": {
   "codemirror_mode": {
    "name": "ipython",
    "version": 3
   },
   "file_extension": ".py",
   "mimetype": "text/x-python",
   "name": "python",
   "nbconvert_exporter": "python",
   "pygments_lexer": "ipython3",
   "version": "3.8.10"
  },
  "toc": {
   "base_numbering": 1,
   "nav_menu": {},
   "number_sections": true,
   "sideBar": true,
   "skip_h1_title": false,
   "title_cell": "Table of Contents",
   "title_sidebar": "Contents",
   "toc_cell": false,
   "toc_position": {},
   "toc_section_display": true,
   "toc_window_display": false
  },
  "varInspector": {
   "cols": {
    "lenName": 16,
    "lenType": 16,
    "lenVar": 40
   },
   "kernels_config": {
    "python": {
     "delete_cmd_postfix": "",
     "delete_cmd_prefix": "del ",
     "library": "var_list.py",
     "varRefreshCmd": "print(var_dic_list())"
    },
    "r": {
     "delete_cmd_postfix": ") ",
     "delete_cmd_prefix": "rm(",
     "library": "var_list.r",
     "varRefreshCmd": "cat(var_dic_list()) "
    }
   },
   "position": {
    "height": "326.516px",
    "left": "920.969px",
    "right": "20px",
    "top": "81px",
    "width": "734.469px"
   },
   "types_to_exclude": [
    "module",
    "function",
    "builtin_function_or_method",
    "instance",
    "_Feature"
   ],
   "window_display": false
  }
 },
 "nbformat": 4,
 "nbformat_minor": 4
}
